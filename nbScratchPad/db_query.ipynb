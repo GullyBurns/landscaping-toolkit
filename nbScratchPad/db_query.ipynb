{
 "cells": [
  {
   "cell_type": "code",
   "execution_count": 10,
   "id": "13f4ae50",
   "metadata": {},
   "outputs": [
    {
     "name": "stdout",
     "output_type": "stream",
     "text": [
      "Row(count(1)=5)\n"
     ]
    }
   ],
   "source": [
    "from databricks import sql\n",
    "import os\n",
    "\n",
    "with sql.connect(server_hostname = 'czi-shared-infra-czi-sci-general-prod-databricks.cloud.databricks.com',# os.getenv(\"DATABRICKS_SERVER_HOSTNAME\"),\n",
    "                 http_path       = os.getenv(\"DATABRICKS_HTTP_PATH\"),\n",
    "                 access_token    = os.getenv(\"DATABRICKS_TOKEN\")) as connection:\n",
    "\n",
    "  with connection.cursor() as cursor:\n",
    "    cursor.execute(\"SELECT COUNT(*) FROM gburns.imaging.corpus\")\n",
    "    result = cursor.fetchall()\n",
    "\n",
    "    for row in result:\n",
    "      print(row)"
   ]
  }
 ],
 "metadata": {
  "kernelspec": {
   "display_name": "Python 3",
   "language": "python",
   "name": "python3"
  },
  "language_info": {
   "codemirror_mode": {
    "name": "ipython",
    "version": 3
   },
   "file_extension": ".py",
   "mimetype": "text/x-python",
   "name": "python",
   "nbconvert_exporter": "python",
   "pygments_lexer": "ipython3",
   "version": "3.10.9"
  }
 },
 "nbformat": 4,
 "nbformat_minor": 5
}
