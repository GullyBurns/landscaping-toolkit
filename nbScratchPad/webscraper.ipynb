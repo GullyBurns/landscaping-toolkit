{
 "cells": [
  {
   "cell_type": "code",
   "execution_count": 7,
   "id": "6b3854cc",
   "metadata": {},
   "outputs": [
    {
     "name": "stdout",
     "output_type": "stream",
     "text": [
      "Collecting selenium\n",
      "  Downloading selenium-4.9.1-py3-none-any.whl (6.6 MB)\n",
      "\u001b[2K     \u001b[90m━━━━━━━━━━━━━━━━━━━━━━━━━━━━━━━━━━━━━━━━\u001b[0m \u001b[32m6.6/6.6 MB\u001b[0m \u001b[31m3.5 MB/s\u001b[0m eta \u001b[36m0:00:00\u001b[0m00:01\u001b[0m00:01\u001b[0m\n",
      "\u001b[?25hRequirement already satisfied: urllib3[socks]<3,>=1.26 in /Users/gburns/Documents/Coding/czLandscapingTk/.venv/lib/python3.10/site-packages (from selenium) (1.26.16)\n",
      "Collecting trio~=0.17 (from selenium)\n",
      "  Downloading trio-0.22.0-py3-none-any.whl (384 kB)\n",
      "\u001b[2K     \u001b[90m━━━━━━━━━━━━━━━━━━━━━━━━━━━━━━━━━━━━━━━\u001b[0m \u001b[32m384.9/384.9 kB\u001b[0m \u001b[31m3.7 MB/s\u001b[0m eta \u001b[36m0:00:00\u001b[0ma \u001b[36m0:00:01\u001b[0m\n",
      "\u001b[?25hCollecting trio-websocket~=0.9 (from selenium)\n",
      "  Downloading trio_websocket-0.10.2-py3-none-any.whl (17 kB)\n",
      "Requirement already satisfied: certifi>=2021.10.8 in /Users/gburns/Documents/Coding/czLandscapingTk/.venv/lib/python3.10/site-packages (from selenium) (2023.5.7)\n",
      "Requirement already satisfied: attrs>=19.2.0 in /Users/gburns/Documents/Coding/czLandscapingTk/.venv/lib/python3.10/site-packages (from trio~=0.17->selenium) (23.1.0)\n",
      "Requirement already satisfied: sortedcontainers in /Users/gburns/Documents/Coding/czLandscapingTk/.venv/lib/python3.10/site-packages (from trio~=0.17->selenium) (2.4.0)\n",
      "Collecting async-generator>=1.9 (from trio~=0.17->selenium)\n",
      "  Using cached async_generator-1.10-py3-none-any.whl (18 kB)\n",
      "Requirement already satisfied: idna in /Users/gburns/Documents/Coding/czLandscapingTk/.venv/lib/python3.10/site-packages (from trio~=0.17->selenium) (3.4)\n",
      "Collecting outcome (from trio~=0.17->selenium)\n",
      "  Downloading outcome-1.2.0-py2.py3-none-any.whl (9.7 kB)\n",
      "Requirement already satisfied: sniffio in /Users/gburns/Documents/Coding/czLandscapingTk/.venv/lib/python3.10/site-packages (from trio~=0.17->selenium) (1.3.0)\n",
      "Requirement already satisfied: exceptiongroup>=1.0.0rc9 in /Users/gburns/Documents/Coding/czLandscapingTk/.venv/lib/python3.10/site-packages (from trio~=0.17->selenium) (1.1.1)\n",
      "Collecting wsproto>=0.14 (from trio-websocket~=0.9->selenium)\n",
      "  Downloading wsproto-1.2.0-py3-none-any.whl (24 kB)\n",
      "Collecting PySocks!=1.5.7,<2.0,>=1.5.6 (from urllib3[socks]<3,>=1.26->selenium)\n",
      "  Downloading PySocks-1.7.1-py3-none-any.whl (16 kB)\n",
      "Collecting h11<1,>=0.9.0 (from wsproto>=0.14->trio-websocket~=0.9->selenium)\n",
      "  Downloading h11-0.14.0-py3-none-any.whl (58 kB)\n",
      "\u001b[2K     \u001b[90m━━━━━━━━━━━━━━━━━━━━━━━━━━━━━━━━━━━━━━━━\u001b[0m \u001b[32m58.3/58.3 kB\u001b[0m \u001b[31m1.3 MB/s\u001b[0m eta \u001b[36m0:00:00\u001b[0m\n",
      "\u001b[?25hInstalling collected packages: PySocks, outcome, h11, async-generator, wsproto, trio, trio-websocket, selenium\n",
      "Successfully installed PySocks-1.7.1 async-generator-1.10 h11-0.14.0 outcome-1.2.0 selenium-4.9.1 trio-0.22.0 trio-websocket-0.10.2 wsproto-1.2.0\n"
     ]
    }
   ],
   "source": [
    "!python -m pip install selenium"
   ]
  },
  {
   "cell_type": "code",
   "execution_count": 13,
   "id": "b700fcaa",
   "metadata": {},
   "outputs": [],
   "source": [
    "from splinter import Browser\n",
    "from selenium.webdriver.chrome.service import Service\n",
    "import re\n",
    "from random import randint\n",
    "from time import sleep\n",
    "\n",
    "def run_medrxiv_biorxiv_assistant(search_term):\n",
    "    my_service = Service(executable_path='/usr/local/bin/chromedriver')\n",
    "    browser = Browser('chrome', service=my_service)#, headless=True)\n",
    "    all_dois = []\n",
    "\n",
    "    print('searching for ' + search_term)\n",
    "\n",
    "    try:\n",
    "        # visit bioRxiv's search page\n",
    "        browser.visit('https://www.biorxiv.org/search')\n",
    "\n",
    "        # fill in the search form\n",
    "        sleep(randint(5,10)*0.1)\n",
    "        print(' fill search term')\n",
    "        browser.find_by_id('edit-txtsimple').fill(search_term)\n",
    "\n",
    "        sleep(randint(5,10)*0.1)\n",
    "        \n",
    "        print(' click search button')        \n",
    "        browser.find_by_css('a[class=\"search-choice-close\"]').click()    \n",
    "        #browser.find_by_css('input[class=\"form-submit\"]').click()    \n",
    "        browser.find_by_id('edit-actions').find_by_value('Search').click()\n",
    "        browser.select('numresults', '75')\n",
    "        \n",
    "        sleep(randint(5,10)*0.1)\n",
    "        print(' load next page')\n",
    "        # Extract the number of results\n",
    "        formatted_string = browser.find_by_id('page-title').text\n",
    "        \n",
    "        # Use regular expressions to get the number from a string formatted 'XXX Results'\n",
    "        m = re.search(r'\\d+ Results', formatted_string)\n",
    "        if m:\n",
    "            num_results = int(re.search(r'\\d+', formatted_string).group())\n",
    "            \n",
    "            loop_count = 0\n",
    "            while True:\n",
    "                \n",
    "                # Extract each result from the list of the web page\n",
    "                doi_links = browser.find_by_css('span[class=\"highwire-cite-metadata-doi highwire-cite-metadata\"]')\n",
    "                all_dois.extend([re.sub('doi: ', '', t.text) for t in doi_links])\n",
    "                \n",
    "                # Is next button absent?\n",
    "                next_button_not_present = browser.is_element_not_present_by_css('a[class=\"link-icon link-icon-after\"]')\n",
    "\n",
    "                if next_button_not_present:\n",
    "                    break\n",
    "            \n",
    "                # Find the next button on the page\n",
    "                next_button = browser.find_by_css('a[class=\"link-icon link-icon-after\"]')\n",
    "\n",
    "                # Click the next button\n",
    "                next_button.click()\n",
    "                sleep(randint(5,10)*0.1)\n",
    "                #print('load page number'+str(loop_count))\n",
    "\n",
    "                loop_count += 1\n",
    "                if loop_count > 100:\n",
    "                    break\n",
    "            \n",
    "    except Exception as e:\n",
    "        print(e)\n",
    "\n",
    "    browser.quit()\n",
    "    print('found ' + str(len(all_dois)) + ' dois')\n",
    "    return all_dois\n"
   ]
  },
  {
   "cell_type": "code",
   "execution_count": null,
   "id": "520edfe0",
   "metadata": {},
   "outputs": [],
   "source": []
  },
  {
   "cell_type": "code",
   "execution_count": 18,
   "id": "5ec89f87",
   "metadata": {},
   "outputs": [
    {
     "name": "stdout",
     "output_type": "stream",
     "text": [
      "searching for Cellxgene\n",
      " fill search term\n",
      " click search button\n",
      " load next page\n",
      "found 119 dois\n",
      "searching for cellxgene AND vip\n",
      " fill search term\n",
      " click search button\n",
      " load next page\n",
      "found 13 dois\n",
      "searching for cellxgene AND gateway\n",
      " fill search term\n",
      " click search button\n",
      " load next page\n",
      "found 7 dois\n",
      "searching for CELLxGENE AND Discover\n",
      " fill search term\n",
      " click search button\n",
      " load next page\n",
      "found 17 dois\n",
      "searching for cellxgene AND annotate\n",
      " fill search term\n",
      " click search button\n",
      " load next page\n",
      "found 108 dois\n",
      "searching for starfish and transcriptom and zuckerberg\n",
      " fill search term\n",
      " click search button\n",
      " load next page\n",
      "found 12 dois\n",
      "searching for IDseq OR CZID OR IDSeq OR ID-seq  \n",
      " fill search term\n",
      " click search button\n",
      " load next page\n",
      "found 128 dois\n",
      "searching for fastgenomics\n",
      " fill search term\n",
      " click search button\n",
      " load next page\n",
      "found 21 dois\n",
      "searching for DCP AND Atlas AND HCA\n",
      " fill search term\n",
      " click search button\n",
      " load next page\n",
      "found 9 dois\n",
      "searching for COVID AND Tracker AND zuckerber\n",
      " fill search term\n",
      " click search button\n",
      " load next page\n",
      "found 0 dois\n",
      "searching for napari AND viewer\n",
      " fill search term\n",
      " click search button\n",
      " load next page\n",
      "found 105 dois\n"
     ]
    }
   ],
   "source": [
    "import pandas as pd\n",
    "from io import StringIO\n",
    "\n",
    "tsv_text = '''\n",
    "0\tCellxgene\tCellxgene\n",
    "1\tCellxgene-vip\tcellxgene AND vip\n",
    "2\tCellxgene-gateway\tcellxgene AND gateway\n",
    "3\tCellxGene Discover \tCELLxGENE AND Discover\n",
    "4\tcellxgene-annotate\tcellxgene AND annotate\n",
    "5\tStarFish\tstarfish and transcriptom and zuckerberg\n",
    "6\tCZ Infectious Disease\tIDseq OR CZID OR IDSeq OR ID-seq  \n",
    "7\tFastGenomics\tfastgenomics\n",
    "8\tHCA DCP\tDCP AND Atlas AND HCA\n",
    "9\tCZ Gen EPI\tCOVID AND Tracker AND zuckerber\n",
    "10\tNapari\tnapari AND viewer'''\n",
    "\n",
    "# Create a dataframe from the tsv text\n",
    "df = pd.read_csv(StringIO(tsv_text), sep='\\t', header=None, names=['product_name', 'search_term'])\n",
    "\n",
    "# create an empty pandas dataframe to store the results\n",
    "df_dois = pd.DataFrame(columns=['product_name', 'search_term', 'doi'])\n",
    "\n",
    "# run the assistant for each search term\n",
    "for index, row in df.iterrows():\n",
    "\n",
    "    #replace '|' with ' OR ' and '&' with ' AND ' in search term\n",
    "    search_term = re.sub(r'\\|', ' OR ', row['search_term'])\n",
    "    search_term = re.sub(r'&', ' AND ', search_term)\n",
    "\n",
    "    dois = run_medrxiv_biorxiv_assistant(row['search_term'])\n",
    "    df_dois = pd.concat([df_dois, pd.DataFrame({'product_name': row['product_name'], 'search_term': row['search_term'], 'doi': dois})])\n"
   ]
  },
  {
   "cell_type": "code",
   "execution_count": 19,
   "id": "ac1013fd",
   "metadata": {},
   "outputs": [],
   "source": [
    "df_dois.to_csv('dois2.csv', sep='\\t', index=False)"
   ]
  },
  {
   "cell_type": "code",
   "execution_count": 83,
   "id": "28ba7c16",
   "metadata": {},
   "outputs": [
    {
     "name": "stdout",
     "output_type": "stream",
     "text": [
      "118\n"
     ]
    }
   ],
   "source": [
    "cellxgene_dois = run_medrxiv_biorxiv_assistant('cellxgene')\n",
    "print(all_dois)\n",
    "print(len(all_dois))"
   ]
  },
  {
   "attachments": {},
   "cell_type": "markdown",
   "id": "57dbe41c",
   "metadata": {},
   "source": []
  },
  {
   "cell_type": "code",
   "execution_count": 33,
   "id": "e7a38c7e",
   "metadata": {},
   "outputs": [
    {
     "data": {
      "text/plain": [
       "['doi: https://doi.org/10.1101/2020.08.28.270652',\n",
       " 'doi: https://doi.org/10.1101/2021.04.05.438318',\n",
       " 'doi: https://doi.org/10.1101/2021.09.30.462602',\n",
       " 'doi: https://doi.org/10.1101/2020.04.17.20069930',\n",
       " 'doi: https://doi.org/10.1101/2023.01.21.514916',\n",
       " 'doi: https://doi.org/10.1101/2023.04.30.538439',\n",
       " 'doi: https://doi.org/10.1101/2021.08.12.455997',\n",
       " 'doi: https://doi.org/10.1101/2023.02.03.526939',\n",
       " 'doi: https://doi.org/10.1101/2023.05.17.540842',\n",
       " 'doi: https://doi.org/10.1101/2022.10.26.513573']"
      ]
     },
     "execution_count": 33,
     "metadata": {},
     "output_type": "execute_result"
    }
   ],
   "source": [
    "# Extract each result from the list of the web page\n",
    "\n",
    "links = browser.find_by_css('span[class=\"highwire-cite-metadata-doi highwire-cite-metadata\"]') \n",
    "[t.text for t in links]"
   ]
  },
  {
   "cell_type": "code",
   "execution_count": null,
   "id": "71f89075",
   "metadata": {},
   "outputs": [],
   "source": [
    "from random import randint\n",
    "from time import sleep\n",
    "\n",
    "# Sleep a random number of seconds (between 1 and 5)\n",
    "sleep(randint(1,5))"
   ]
  },
  {
   "cell_type": "code",
   "execution_count": 45,
   "id": "9f0a74ee",
   "metadata": {},
   "outputs": [
    {
     "name": "stdout",
     "output_type": "stream",
     "text": [
      "Advanced Search | bioRxiv\n"
     ]
    },
    {
     "ename": "ElementClickInterceptedException",
     "evalue": "Message: element click intercepted: Element <input type=\"submit\" id=\"search_rightsidebar_submit_1578430535\" name=\"op\" value=\"Search\" class=\"form-submit\"> is not clickable at point (416, 583). Other element would receive the click: <p>...</p>\n  (Session info: headless chrome=114.0.5735.106)\nStacktrace:\n0   chromedriver                        0x00000001097b16b8 chromedriver + 4937400\n1   chromedriver                        0x00000001097a8b73 chromedriver + 4901747\n2   chromedriver                        0x0000000109366616 chromedriver + 435734\n3   chromedriver                        0x00000001093b1b97 chromedriver + 744343\n4   chromedriver                        0x00000001093af450 chromedriver + 734288\n5   chromedriver                        0x00000001093aca84 chromedriver + 723588\n6   chromedriver                        0x00000001093abbe4 chromedriver + 719844\n7   chromedriver                        0x000000010939e1e1 chromedriver + 664033\n8   chromedriver                        0x00000001093ce012 chromedriver + 860178\n9   chromedriver                        0x000000010939d9c1 chromedriver + 661953\n10  chromedriver                        0x00000001093ce1ce chromedriver + 860622\n11  chromedriver                        0x00000001093e8e76 chromedriver + 970358\n12  chromedriver                        0x00000001093cdde3 chromedriver + 859619\n13  chromedriver                        0x000000010939bd7f chromedriver + 654719\n14  chromedriver                        0x000000010939d0de chromedriver + 659678\n15  chromedriver                        0x000000010976d2ad chromedriver + 4657837\n16  chromedriver                        0x0000000109772130 chromedriver + 4677936\n17  chromedriver                        0x0000000109778def chromedriver + 4705775\n18  chromedriver                        0x000000010977305a chromedriver + 4681818\n19  chromedriver                        0x000000010974592c chromedriver + 4495660\n20  chromedriver                        0x0000000109790838 chromedriver + 4802616\n21  chromedriver                        0x00000001097909b7 chromedriver + 4802999\n22  chromedriver                        0x00000001097a199f chromedriver + 4872607\n23  libsystem_pthread.dylib             0x00007ff80c5c61d3 _pthread_start + 125\n24  libsystem_pthread.dylib             0x00007ff80c5c1bd3 thread_start + 15\n",
     "output_type": "error",
     "traceback": [
      "\u001b[0;31m---------------------------------------------------------------------------\u001b[0m",
      "\u001b[0;31mElementClickInterceptedException\u001b[0m          Traceback (most recent call last)",
      "Cell \u001b[0;32mIn[45], line 17\u001b[0m\n\u001b[1;32m     10\u001b[0m browser\u001b[39m.\u001b[39mfind_by_name(\u001b[39m'\u001b[39m\u001b[39mtxtsimple\u001b[39m\u001b[39m'\u001b[39m)\u001b[39m.\u001b[39mfill(\u001b[39m'\u001b[39m\u001b[39mcellxgene\u001b[39m\u001b[39m'\u001b[39m)\n\u001b[1;32m     12\u001b[0m \u001b[39m# Sleep a random number of seconds (between 1 and 5)\u001b[39;00m\n\u001b[1;32m     13\u001b[0m \u001b[39m#sleep(randint(1,5))\u001b[39;00m\n\u001b[1;32m     14\u001b[0m \u001b[39m#next_button_not_present = browser.is_element_not_present_by_css('a[class=\"link-icon link-icon-after\"]')\u001b[39;00m\n\u001b[1;32m     15\u001b[0m \u001b[39m#browser.find_by_css('a[class=\"search-choice-close\"]').click()\u001b[39;00m\n\u001b[0;32m---> 17\u001b[0m browser\u001b[39m.\u001b[39;49mfind_by_id(\u001b[39m'\u001b[39;49m\u001b[39medit-actions\u001b[39;49m\u001b[39m'\u001b[39;49m)\u001b[39m.\u001b[39;49mfind_by_value(\u001b[39m'\u001b[39;49m\u001b[39mSearch\u001b[39;49m\u001b[39m'\u001b[39;49m)\u001b[39m.\u001b[39;49mclick()\n",
      "File \u001b[0;32m~/Documents/Coding/czLandscapingTk/.venv/lib/python3.10/site-packages/splinter/driver/webdriver/__init__.py:828\u001b[0m, in \u001b[0;36mWebDriverElement.click\u001b[0;34m(self)\u001b[0m\n\u001b[1;32m    822\u001b[0m     \u001b[39mexcept\u001b[39;00m (\n\u001b[1;32m    823\u001b[0m         ElementClickInterceptedException,\n\u001b[1;32m    824\u001b[0m         WebDriverException,\n\u001b[1;32m    825\u001b[0m     ) \u001b[39mas\u001b[39;00m e:\n\u001b[1;32m    826\u001b[0m         error \u001b[39m=\u001b[39m e\n\u001b[0;32m--> 828\u001b[0m \u001b[39mraise\u001b[39;00m error\n",
      "File \u001b[0;32m~/Documents/Coding/czLandscapingTk/.venv/lib/python3.10/site-packages/splinter/driver/webdriver/__init__.py:821\u001b[0m, in \u001b[0;36mWebDriverElement.click\u001b[0;34m(self)\u001b[0m\n\u001b[1;32m    819\u001b[0m \u001b[39mwhile\u001b[39;00m time\u001b[39m.\u001b[39mtime() \u001b[39m<\u001b[39m end_time:\n\u001b[1;32m    820\u001b[0m     \u001b[39mtry\u001b[39;00m:\n\u001b[0;32m--> 821\u001b[0m         \u001b[39mreturn\u001b[39;00m \u001b[39mself\u001b[39;49m\u001b[39m.\u001b[39;49m_element\u001b[39m.\u001b[39;49mclick()\n\u001b[1;32m    822\u001b[0m     \u001b[39mexcept\u001b[39;00m (\n\u001b[1;32m    823\u001b[0m         ElementClickInterceptedException,\n\u001b[1;32m    824\u001b[0m         WebDriverException,\n\u001b[1;32m    825\u001b[0m     ) \u001b[39mas\u001b[39;00m e:\n\u001b[1;32m    826\u001b[0m         error \u001b[39m=\u001b[39m e\n",
      "File \u001b[0;32m~/Documents/Coding/czLandscapingTk/.venv/lib/python3.10/site-packages/selenium/webdriver/remote/webelement.py:94\u001b[0m, in \u001b[0;36mWebElement.click\u001b[0;34m(self)\u001b[0m\n\u001b[1;32m     92\u001b[0m \u001b[39mdef\u001b[39;00m \u001b[39mclick\u001b[39m(\u001b[39mself\u001b[39m) \u001b[39m-\u001b[39m\u001b[39m>\u001b[39m \u001b[39mNone\u001b[39;00m:\n\u001b[1;32m     93\u001b[0m \u001b[39m    \u001b[39m\u001b[39m\"\"\"Clicks the element.\"\"\"\u001b[39;00m\n\u001b[0;32m---> 94\u001b[0m     \u001b[39mself\u001b[39;49m\u001b[39m.\u001b[39;49m_execute(Command\u001b[39m.\u001b[39;49mCLICK_ELEMENT)\n",
      "File \u001b[0;32m~/Documents/Coding/czLandscapingTk/.venv/lib/python3.10/site-packages/selenium/webdriver/remote/webelement.py:403\u001b[0m, in \u001b[0;36mWebElement._execute\u001b[0;34m(self, command, params)\u001b[0m\n\u001b[1;32m    401\u001b[0m     params \u001b[39m=\u001b[39m {}\n\u001b[1;32m    402\u001b[0m params[\u001b[39m\"\u001b[39m\u001b[39mid\u001b[39m\u001b[39m\"\u001b[39m] \u001b[39m=\u001b[39m \u001b[39mself\u001b[39m\u001b[39m.\u001b[39m_id\n\u001b[0;32m--> 403\u001b[0m \u001b[39mreturn\u001b[39;00m \u001b[39mself\u001b[39;49m\u001b[39m.\u001b[39;49m_parent\u001b[39m.\u001b[39;49mexecute(command, params)\n",
      "File \u001b[0;32m~/Documents/Coding/czLandscapingTk/.venv/lib/python3.10/site-packages/selenium/webdriver/remote/webdriver.py:440\u001b[0m, in \u001b[0;36mWebDriver.execute\u001b[0;34m(self, driver_command, params)\u001b[0m\n\u001b[1;32m    438\u001b[0m response \u001b[39m=\u001b[39m \u001b[39mself\u001b[39m\u001b[39m.\u001b[39mcommand_executor\u001b[39m.\u001b[39mexecute(driver_command, params)\n\u001b[1;32m    439\u001b[0m \u001b[39mif\u001b[39;00m response:\n\u001b[0;32m--> 440\u001b[0m     \u001b[39mself\u001b[39;49m\u001b[39m.\u001b[39;49merror_handler\u001b[39m.\u001b[39;49mcheck_response(response)\n\u001b[1;32m    441\u001b[0m     response[\u001b[39m\"\u001b[39m\u001b[39mvalue\u001b[39m\u001b[39m\"\u001b[39m] \u001b[39m=\u001b[39m \u001b[39mself\u001b[39m\u001b[39m.\u001b[39m_unwrap_value(response\u001b[39m.\u001b[39mget(\u001b[39m\"\u001b[39m\u001b[39mvalue\u001b[39m\u001b[39m\"\u001b[39m, \u001b[39mNone\u001b[39;00m))\n\u001b[1;32m    442\u001b[0m     \u001b[39mreturn\u001b[39;00m response\n",
      "File \u001b[0;32m~/Documents/Coding/czLandscapingTk/.venv/lib/python3.10/site-packages/selenium/webdriver/remote/errorhandler.py:245\u001b[0m, in \u001b[0;36mErrorHandler.check_response\u001b[0;34m(self, response)\u001b[0m\n\u001b[1;32m    243\u001b[0m         alert_text \u001b[39m=\u001b[39m value[\u001b[39m\"\u001b[39m\u001b[39malert\u001b[39m\u001b[39m\"\u001b[39m]\u001b[39m.\u001b[39mget(\u001b[39m\"\u001b[39m\u001b[39mtext\u001b[39m\u001b[39m\"\u001b[39m)\n\u001b[1;32m    244\u001b[0m     \u001b[39mraise\u001b[39;00m exception_class(message, screen, stacktrace, alert_text)  \u001b[39m# type: ignore[call-arg]  # mypy is not smart enough here\u001b[39;00m\n\u001b[0;32m--> 245\u001b[0m \u001b[39mraise\u001b[39;00m exception_class(message, screen, stacktrace)\n",
      "\u001b[0;31mElementClickInterceptedException\u001b[0m: Message: element click intercepted: Element <input type=\"submit\" id=\"search_rightsidebar_submit_1578430535\" name=\"op\" value=\"Search\" class=\"form-submit\"> is not clickable at point (416, 583). Other element would receive the click: <p>...</p>\n  (Session info: headless chrome=114.0.5735.106)\nStacktrace:\n0   chromedriver                        0x00000001097b16b8 chromedriver + 4937400\n1   chromedriver                        0x00000001097a8b73 chromedriver + 4901747\n2   chromedriver                        0x0000000109366616 chromedriver + 435734\n3   chromedriver                        0x00000001093b1b97 chromedriver + 744343\n4   chromedriver                        0x00000001093af450 chromedriver + 734288\n5   chromedriver                        0x00000001093aca84 chromedriver + 723588\n6   chromedriver                        0x00000001093abbe4 chromedriver + 719844\n7   chromedriver                        0x000000010939e1e1 chromedriver + 664033\n8   chromedriver                        0x00000001093ce012 chromedriver + 860178\n9   chromedriver                        0x000000010939d9c1 chromedriver + 661953\n10  chromedriver                        0x00000001093ce1ce chromedriver + 860622\n11  chromedriver                        0x00000001093e8e76 chromedriver + 970358\n12  chromedriver                        0x00000001093cdde3 chromedriver + 859619\n13  chromedriver                        0x000000010939bd7f chromedriver + 654719\n14  chromedriver                        0x000000010939d0de chromedriver + 659678\n15  chromedriver                        0x000000010976d2ad chromedriver + 4657837\n16  chromedriver                        0x0000000109772130 chromedriver + 4677936\n17  chromedriver                        0x0000000109778def chromedriver + 4705775\n18  chromedriver                        0x000000010977305a chromedriver + 4681818\n19  chromedriver                        0x000000010974592c chromedriver + 4495660\n20  chromedriver                        0x0000000109790838 chromedriver + 4802616\n21  chromedriver                        0x00000001097909b7 chromedriver + 4802999\n22  chromedriver                        0x00000001097a199f chromedriver + 4872607\n23  libsystem_pthread.dylib             0x00007ff80c5c61d3 _pthread_start + 125\n24  libsystem_pthread.dylib             0x00007ff80c5c1bd3 thread_start + 15\n"
     ]
    }
   ],
   "source": [
    "my_service = Service(executable_path='/usr/local/bin/chromedriver')\n",
    "browser = Browser('chrome', service=my_service, headless=True)\n",
    "\n",
    "# visit bioRxiv's search page\n",
    "browser.visit('https://www.biorxiv.org/search')\n",
    "\n",
    "print(browser.title)\n",
    "\n",
    "# fill in the search form\n",
    "browser.find_by_name('txtsimple').fill('cellxgene')\n",
    "\n",
    "# Sleep a random number of seconds (between 1 and 5)\n",
    "#sleep(randint(1,5))\n",
    "#next_button_not_present = browser.is_element_not_present_by_css('a[class=\"link-icon link-icon-after\"]')\n",
    "#browser.find_by_css('a[class=\"search-choice-close\"]').click()\n",
    "\n",
    "browser.find_by_id('edit-actions').find_by_value('Search').click()\n"
   ]
  }
 ],
 "metadata": {
  "kernelspec": {
   "display_name": "Python 3",
   "language": "python",
   "name": "python3"
  },
  "language_info": {
   "codemirror_mode": {
    "name": "ipython",
    "version": 3
   },
   "file_extension": ".py",
   "mimetype": "text/x-python",
   "name": "python",
   "nbconvert_exporter": "python",
   "pygments_lexer": "ipython3",
   "version": "3.10.9"
  }
 },
 "nbformat": 4,
 "nbformat_minor": 5
}
