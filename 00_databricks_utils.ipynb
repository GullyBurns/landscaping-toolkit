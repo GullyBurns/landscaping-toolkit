{
 "cells": [
  {
   "cell_type": "code",
   "execution_count": null,
   "metadata": {},
   "outputs": [],
   "source": [
    "# default_exp generalUtils\n",
    "from nbdev import *"
   ]
  },
  {
   "cell_type": "code",
   "execution_count": null,
   "metadata": {},
   "outputs": [],
   "source": [
    "import pytz\n",
    "from datetime import datetime\n",
    "import re\n",
    "\n",
    "def dump_data_to_disk(df, stem):\n",
    "  tz = pytz.timezone('America/Los_Angeles')\n",
    "  now = datetime.now(tz=tz)\n",
    "  datestamp = now.strftime(\"%Y_%m_%d\")\n",
    "  data_path = stem+datestamp+'.tsv'\n",
    "  df = df.replace(r'\\\\\\\\n', ' ', regex=True)\n",
    "  df.to_csv(data_path, sep='\\t', index=False)\n",
    "  url = re.sub('/dbfs/FileStore/','https://ie-meta-prod-databricks-workspace.cloud.databricks.com/files/',data_path)\n",
    "  \n",
    "  name = stem\n",
    "  name_match = re.search('/([a-zA-Z0-9_]+)_*$', stem)\n",
    "  if name_match:\n",
    "    name = name_match.group(1)\n",
    "  print(name + ': '+url)\n",
    "  displayHTML('<a href=\"'+url+'\" >LINK</a>' )\n"
   ]
  }
 ],
 "metadata": {
  "kernelspec": {
   "display_name": "Python 3",
   "language": "python",
   "name": "python3"
  }
 },
 "nbformat": 4,
 "nbformat_minor": 1
}
