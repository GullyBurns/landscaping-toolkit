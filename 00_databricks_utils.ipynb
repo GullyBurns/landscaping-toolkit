{
  "cells": [
    {
      "cell_type": "code",
      "metadata": {},
      "source": [
        "# default_exp generalUtils\n",
        "from nbdev import *"
      ],
      "outputs": [],
      "execution_count": null
    },
    {
      "cell_type": "markdown",
      "metadata": {},
      "source": [
        " # Databricks Utilities \n",
        "> Tools for use within databricks notebooks. "
      ]
    },
    {
      "cell_type": "code",
      "metadata": {},
      "source": [
        "#export\n",
        "\n",
        "import pytz\n",
        "from datetime import datetime\n",
        "import re\n",
        "\n",
        "def dump_data_to_disk(df, file_stem, databricks_url='https://ie-meta-prod-databricks-workspace.cloud.databricks.com'):\n",
        "  ''' \n",
        "  Save a Pandas's Dataframe to disk and display a HTTP link to download it\n",
        "  \n",
        "  `file_stem`: the location to save the file in the databricks file system. String must start with '/dbfs/FileStore/'\n",
        "  `databricks_url`: is the URL for the Databricks environment being used. Defaults to the CZI workspace. \n",
        "  '''\n",
        "  tz = pytz.timezone('America/Los_Angeles')\n",
        "  now = datetime.now(tz=tz)\n",
        "  datestamp = now.strftime(\"%Y_%m_%d\")\n",
        "  data_path = file_stem+datestamp+'.tsv'\n",
        "  df = df.replace(r'\\\\\\\\n', ' ', regex=True)\n",
        "  df.to_csv(data_path, sep='\\t', index=False)\n",
        "  databricks_stem = databricks_url + '/files/'\n",
        "  url = re.sub('/dbfs/FileStore/', databricks_stem, data_path)\n",
        "  name = file_stem\n",
        "  name_match = re.search('/([a-zA-Z0-9_]+)_*$', file_stem)\n",
        "  if name_match:\n",
        "    name = name_match.group(1)\n",
        "  print(name + ': '+url)\n",
        "  #displayHTML('<a href=\"'+url+'\" >LINK</a>' )"
      ],
      "outputs": [],
      "execution_count": null
    },
    {
      "cell_type": "code",
      "metadata": {},
      "source": [
        "show_doc(dump_data_to_disk)\n"
      ],
      "outputs": [],
      "execution_count": null
    }
  ],
  "metadata": {
    "anaconda-cloud": {},
    "kernelspec": {
      "display_name": "Python 3",
      "language": "python",
      "name": "python3"
    },
    "language_info": {
      "codemirror_mode": {
        "name": "ipython",
        "version": 3
      },
      "file_extension": ".py",
      "mimetype": "text/x-python",
      "name": "python",
      "nbconvert_exporter": "python",
      "pygments_lexer": "ipython3",
      "version": "3.6.1"
    }
  },
  "nbformat": 4,
  "nbformat_minor": 1
}