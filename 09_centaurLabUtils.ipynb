{
  "cells": [
    {
      "cell_type": "code",
      "metadata": {},
      "source": [
        "# default_exp centaurLabsUtils\n",
        "from nbdev import *"
      ],
      "outputs": [],
      "execution_count": null
    },
    {
      "cell_type": "markdown",
      "metadata": {},
      "source": [
        " # CentaurLab Utility Tools \n",
        "\n",
        "> Tools to upload, download, and analyze data from CentaurLabs using their curation interface. "
      ]
    },
    {
      "cell_type": "code",
      "metadata": {},
      "source": [
        "#export\n",
        "\n",
        "import json\n",
        "import requests\n",
        "import pandas as pd\n",
        "from tqdm import tqdm\n",
        "import os\n",
        "import urllib.request \n",
        "\n",
        "class CentaurLabsUtils: \n",
        "  '''\n",
        "  Tools to provide capabilities to interface dashboard databases with CentaurLabs' curation \n",
        "  systems Documentation: https://docs.centaurlabs.com/\n",
        "  \n",
        "  Note - this requires that an appropriate scispacy language model be loaded. \n",
        "  \n",
        "  %pip install https://s3-us-west-2.amazonaws.com/ai2-s2-scispacy/releases/v0.4.0/en_core_sci_lg-0.4.0.tar.gz \n",
        "  \n",
        "  Attributes:\n",
        "    * df: The dataframe being processed - expected columns are (A) ID, (B) title, (C) abstract, (D) year, (E) disease, (F) label. These can be specified with other class attributes\n",
        "    \n",
        "  '''\n",
        "  def __init__(self, df, id_col='ID_PAPER', title_col='TITLE', abs_col='ABSTRACT', \n",
        "               year_col='YEAR', dis_col='DISEASE', label_col='LABEL'):\n",
        "    self.df = df\n",
        "    self.id_col = id_col\n",
        "    self.title_col = title_col\n",
        "    self.abs_col = abs_col\n",
        "    self.year_col = year_col\n",
        "    self.dis_col = dis_col\n",
        "    self.label_col = label_col\n",
        "    \n",
        "  def generate_html_column(self, maxpos, html_col='HTML'):\n",
        "    final_list = []\n",
        "    for i, row in df.iterrows():\n",
        "      disease = str(row[self.dis_col])\n",
        "      id = str(row[self.id_col])\n",
        "      year = str(row[self.year_col])\n",
        "      title = str(row[self.title_col])\n",
        "      abstract = str(row[self.abs_col])\n",
        "      text = title + '. ' + abstract \n",
        "      doc = nlp(text)\n",
        "      if len(doc)>maxpos:\n",
        "        title_doc = nlp(title)\n",
        "        title_len = len(title_doc)\n",
        "        pos = doc[len(doc)+len(title_doc)-maxpos].idx\n",
        "        abstract = ' ... ' + text[pos:]\n",
        "      html = '''<html>\n",
        "          <div style=\"font-size: 20px; color: white; font-family: sans-serif; font-weight: lighter; line-height: 130%;\">\n",
        "          <p><b>DISEASE: </b>'''+disease+'''</p>\n",
        "          <p><b>ID: </b>'''+id+'''</p>\n",
        "          <p><b>TITLE: </b>'''+title+'''</p>\n",
        "          <p><b>ABSTRACT: </b>'''+abstract+'''</p>\n",
        "          <p><b>YEAR: </b>'''+year+'''</p>'''\n",
        "      final_list.append(html)\n",
        "    self.df[html_col] = final_list\n"
      ],
      "outputs": [],
      "execution_count": null
    }
  ],
  "metadata": {
    "anaconda-cloud": {},
    "kernelspec": {
      "display_name": "Python 3",
      "language": "python",
      "name": "python3"
    },
    "language_info": {
      "codemirror_mode": {
        "name": "ipython",
        "version": 3
      },
      "file_extension": ".py",
      "mimetype": "text/x-python",
      "name": "python",
      "nbconvert_exporter": "python",
      "pygments_lexer": "ipython3",
      "version": "3.6.1"
    }
  },
  "nbformat": 4,
  "nbformat_minor": 1
}