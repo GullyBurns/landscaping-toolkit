{
  "cells": [
    {
      "cell_type": "code",
      "metadata": {},
      "source": [
        "# default_exp bioLinkUtils\n",
        "from nbdev import *"
      ],
      "outputs": [],
      "execution_count": null
    },
    {
      "cell_type": "markdown",
      "metadata": {},
      "source": [
        " # BioLink Query Tools \n",
        "\n",
        "> Tools to query and analyze data from the Monarch Initiative's BioLink interface. This provides a live queryable interface for disease-based knowledge derived from Monarch's KG. Access to the service is through [https://api.monarchinitiative.org/api/](https://api.monarchinitiative.org/api/). More detailed information about the Biolink model is available from their [GitHub page](https://github.com/biolink/biolink-model). "
      ]
    },
    {
      "cell_type": "code",
      "metadata": {},
      "source": [
        "#export\n",
        "\n",
        "import json\n",
        "import requests\n",
        "import pandas as pd\n",
        "from tqdm import tqdm\n",
        "\n",
        "class BioLinkUtils: \n",
        "  descendents_lookup = {}\n",
        "  '''\n",
        "  Interactions with the BioLink KG developed by the Monarch initiaive. \n",
        "  Currently, this system can query for MONDO disease Ids and compute similar diseases based on phenotype overlap. \n",
        "  '''\n",
        "  def __init__(self, descendents_df = None):\n",
        "    if descendents_df is not None:\n",
        "      self.descendents_lookup = {}\n",
        "      for row in descendents_df.itertuples():\n",
        "        d = row.descendent_id[-13:].replace('_', ':')\n",
        "        m = row.mondo_id[-13:].replace('_', ':')\n",
        "        if self.descendents_lookup.get(m) is None:\n",
        "          self.descendents_lookup[m] = [d]\n",
        "        else:\n",
        "          self.descendents_lookup.get(m).append(d)\n",
        "    \n",
        "  def query_diseases(self, disease_ids):\n",
        "    BIOLINK_STEM = \"https://api.monarchinitiative.org/api/bioentity/\"\n",
        "    recs = []\n",
        "    for id in disease_ids:\n",
        "      url = BIOLINK_STEM + 'disease/'+id \n",
        "      print(url)\n",
        "      r = requests.get(url)\n",
        "      d = r.content.decode('utf-8')\n",
        "      recs.append(json.loads(d))\n",
        "    return recs\n",
        "\n",
        "  def compute_disease_similarity_across_disease_list(self, disease_ids, disease_names, metric='phenodigm', taxon=9606, limit=50, threshold=0.7):\n",
        "    '''\n",
        "    Iterates over a set of MONDO URIs to identify similar diseases based on phenotypic overlap.  \n",
        "    '''\n",
        "    df = pd.DataFrame()\n",
        "    for (d_id, d_name) in zip(disease_ids, disease_names):\n",
        "      m = re.match(\"^(MONDO\\:\\d{7})\", d_id)\n",
        "      if m is not None:\n",
        "        df = df.append(self.compute_disease_similarity(m.group(1), d_name, metric=metric, taxon=taxon, limit=limit, threshold=threshold))\n",
        "      else:\n",
        "        print(d_id)\n",
        "    return df  \n",
        "  \n",
        "  def compute_disease_similarity(self, disease_id, disease_name, metric='phenodigm', taxon=9606, limit=50, threshold=0.7):\n",
        "    '''\n",
        "    Computes similar diesases (with scores) for a single MONDO URI based on a phenotypic overlap metric (e.g., phenodigm). \n",
        "    Analysis is performed remotely. \n",
        "    Currently not ideal - needs to be able to remove 'descendents' from the list of returned similar diseases.  \n",
        "    '''\n",
        "    BIOLINK_STEM = \"https://api.monarchinitiative.org/api/sim/search?is_feature_set=false&\"\n",
        "    url = BIOLINK_STEM + 'metric='+metric+'&id='+disease_id+'&limit=100&taxon='+str(taxon)\n",
        "    r = requests.get(url)\n",
        "    d = r.content.decode('utf-8')\n",
        "    sim_data = json.loads(d)\n",
        "    l = []\n",
        "    print(disease_name + ': ' + str(len(sim_data.get('matches'))))\n",
        "    for match in sim_data.get('matches'):\n",
        "      t_id = match.get('id')\n",
        "      #if self.descendents_lookup.get(disease_id) is not None and t_id in self.descendents_lookup.get(disease_id):\n",
        "      #  continue\n",
        "      if t_id != disease_id and \\\n",
        "          match.get('score') > threshold and \\\n",
        "          len(l)<limit:\n",
        "        pl = [(pm.get('reference').get('IC'), pm.get('reference').get('id'), pm.get('reference').get('label')) for pm in match.get('pairwise_match')]\n",
        "        l.append((disease_id, disease_name, match.get('type'), match.get('rank'), match.get('score'), match.get('label'), match.get('id'), pl))\n",
        "    df = pd.DataFrame(l, columns=['source_disease_id','source_disease_name','type','rank','score','label','target_id', 'match'])\n",
        "    return df\n"
      ],
      "outputs": [],
      "execution_count": null
    }
  ],
  "metadata": {
    "anaconda-cloud": {},
    "kernelspec": {
      "display_name": "Python 3",
      "language": "python",
      "name": "python3"
    },
    "language_info": {
      "codemirror_mode": {
        "name": "ipython",
        "version": 3
      },
      "file_extension": ".py",
      "mimetype": "text/x-python",
      "name": "python",
      "nbconvert_exporter": "python",
      "pygments_lexer": "ipython3",
      "version": "3.6.1"
    }
  },
  "nbformat": 4,
  "nbformat_minor": 1
}