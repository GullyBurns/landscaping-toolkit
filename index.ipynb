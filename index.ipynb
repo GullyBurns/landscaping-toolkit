{
 "cells": [
  {
   "cell_type": "code",
   "execution_count": null,
   "metadata": {},
   "outputs": [],
   "source": [
    "#hide\n",
    "from nbdev import *\n",
    "#from your_lib.core import *"
   ]
  },
  {
   "cell_type": "markdown",
   "metadata": {},
   "source": [
    " # Chan Zuckerberg Landscaping Toolkit\n",
    "\n",
    "> This project is under development and not yet stable. This is a library of components designed to support and facilitate 'scientific knowledge landscaping' within the Chan Zuckerberg Initiative's Science Program. It consists of several utility libraries to help build and analyze corpora of scientific knowledge expressed both as natural language and structured data. This system is built on the excellent [`nbdev`](https://nbdev.fast.ai/) package that uses notebooks as a vehicle for development. "
   ]
  },
  {
   "cell_type": "markdown",
   "metadata": {},
   "source": [
    " \n",
    "\n",
    "CZI adheres to the Contributor Covenant [code of conduct](https://github.com/chanzuckerberg/.github/blob/master/CODE_OF_CONDUCT.md). By participating, you are expected to uphold this code. Please report unacceptable behavior to [opensource@chanzuckerberg.com](mailto:opensource@chanzuckerberg.com).\n",
    "\n",
    "Please note: If you believe you have found a security issue, please responsibly disclose by contacting us at [security@chanzuckerberg.com](mailto:security@chanzuckerberg.com)."
   ]
  },
  {
   "cell_type": "markdown",
   "metadata": {},
   "source": [
    " ## Install"
   ]
  },
  {
   "cell_type": "markdown",
   "metadata": {},
   "source": [
    " `pip install git+https://github.com/GullyBurns/czLandscapingTk.git`"
   ]
  },
  {
   "cell_type": "markdown",
   "metadata": {},
   "source": [
    " ## How this system was built:"
   ]
  },
  {
   "cell_type": "markdown",
   "metadata": {},
   "source": [
    " This libray is built on [databricks_to_nbdev_template](https://github.com/GullyBurns/databricks_to_nbdev_template), which is modified version of [nbdev_template](https://github.com/fastai/nbdev_template) tailored to work with databricks notebooks.\n",
    "\n",
    "The steps to contributing to the development of this library are based on a development pipeline that uses databricks. This means that this work will mainly be driven internally from with the CZI tech team: \n",
    "1. Clone this library from within databricks. \n",
    "2. Place your scripts and utility notebooks in subdirectories of the `databricks` folder in the file hierarchy.\n",
    "3. Any databricks notebooks that contain the text: `from nbdev import *` will be automatically converted to Jupyter notebooks that live at the root level of the repository.\n",
    "4. When you push this repository to Github from Databricks, Jupyter notebooks will be built, added to the repo and then processed by nbdev to generate modules and documentation (refer to https://nbdev.fast.ai/ for full documentation on how to do this). Note that pushing code to Github will add and commit *more* code to github, requiring you to perform another `git pull` to load and refer to the latest changes in your code. "
   ]
  },
  {
   "cell_type": "markdown",
   "metadata": {},
   "source": [
    " ## Instructions for how to use Toolkit Classes:"
   ]
  },
  {
   "cell_type": "markdown",
   "metadata": {},
   "source": [
    " ### AirtableUtils Class"
   ]
  },
  {
   "cell_type": "markdown",
   "metadata": {},
   "source": [
    "  \n",
    "Load the class and instantiate it with the API-KEY from Airtable:\n",
    "```\n",
    "from czLandscapingTk.airtableUtils import AirtableUtils\n",
    "atu = AirtableUtils('keyXYZXYZXYZYXZY')\n",
    "```\n",
    "\n",
    "Read a complete table into a pandas dataframe: \n",
    "```\n",
    "# atu.read_airtable(<notebook id>, <table id>)\n",
    "atu.read_airtable('appXYZXYZXYZXYZ', 'tblXYZXYZXYZXYZ')\n",
    "```\n",
    "\n",
    "Write a dataframe to an Airtable (note, column names of Airtable must match the columns of the dataframe and must be instantiated manually ahead of time): \n",
    "```\n",
    "# atu.send_df_to_airtable(<notebook id>, <table id>, df):\n",
    "df = <YOUR DATA>\n",
    "atu.send_df_to_airtable('appXYZXYZXYZXYZ', 'tblXYZXYZXYZXYZ', df)\n",
    "```"
   ]
  },
  {
   "cell_type": "markdown",
   "metadata": {},
   "source": [
    " ### NetworkxS2AG Class"
   ]
  },
  {
   "cell_type": "markdown",
   "metadata": {},
   "source": [
    " \n",
    "\n",
    "Instantiate the class using an api key you should obtain from the S2AG team to permit more than 100 request calls per 5 minutes. This script will burn through that limit immediately. Obtain API keys here: https://www.semanticscholar.org/product/api#Partner-Form\n",
    "\n",
    "```\n",
    "from czLandscapingTk.networkxS2AG import NetworkxS2AG\n",
    "kolsGraph = NetworkxS2AG('<API-KEY-FROM-S2AG-TEAM>')\n",
    "```\n",
    "\n",
    "Maybe start by searching for a reseracher by name. e.g. [Daphne Koller](https://api.semanticscholar.org/graph/v1/author/search?query=Daphne+Koller) \n",
    "\n",
    "```\n",
    "kolsGraph.search_for_disambiguated_author('Daphne Koller')\n",
    "```\n",
    "\n",
    "Generating the following output: \n",
    "<table border=\"1\" class=\"dataframe\">  <thead>    <tr style=\"text-align: right;\"><th></th>      <th>authorId</th>      <th>name</th>      <th>paperCount</th>      <th>hIndex</th>      <th>Top 10 Pubs</th>    </tr>  </thead>  <tbody>    <tr>      <th>0</th>      <td>1736370</td>      <td>D. Koller</td>      <td>351</td>      <td>130</td>      <td>Probabilistic Graphical Models - Principles and Techniques     |     The Genotype-Tissue Expression (GTEx) project     |     FastSLAM: a factored solution to the simultaneous localization and mapping problem     |     Support Vector Machine Active Learning with Applications to Text Classification     |     Max-Margin Markov Networks     |     SCAPE: shape completion and animation of people     |     Self-Paced Learning for Latent Variable Models     |     The Genotype-Tissue Expression (GTEx) pilot analysis: Multitissue gene regulation in humans     |     Decomposing a scene into geometric and semantically consistent regions     |     Toward Optimal Feature Selection</td>    </tr>    <tr>      <th>1</th>      <td>2081968396</td>      <td>D. Koller</td>      <td>5</td>      <td>1</td>      <td>Systematic Analysis of Breast Cancer Morphology Uncovers Stromal Features Associated with Survival     |     [Relevance of health geographic research for dermatology].     |     Convolutional neural networks of H&amp;E-stained biopsy images accurately quantify histologic features of non-alcoholic steatohepatitis     |     IDENTIFYING GENETIC DRIVERS OF CANCER MORPHOLOGY     |     Features Associated with Survival Systematic Analysis of Breast Cancer Morphology Uncovers Stromal</td>    </tr>    <tr>      <th>2</th>      <td>50678963</td>      <td>D. Koller</td>      <td>1</td>      <td>0</td>      <td>½º Äääöòòòò Èöóóóóóðð×øø Êêððøøóòòð Åóð×</td>    </tr>    <tr>      <th>3</th>      <td>2049948919</td>      <td>Daphne Koller</td>      <td>1</td>      <td>1</td>      <td>Team-Maxmin Equilibria☆</td>    </tr>    <tr>      <th>4</th>      <td>2081968988</td>      <td>Daphne Koller</td>      <td>1</td>      <td>0</td>      <td>Í××òò Øùöö Àààööö Blockin× Ò Ý×××ò Aeaeøûóöö Äääöòòòò´´üøøòòòò ×øöö Blockinøµ</td>    </tr>    <tr>      <th>5</th>      <td>2081968959</td>      <td>Daphne Koller</td>      <td>3</td>      <td>1</td>      <td>Abstract 1883: Large scale viability screening with PRISM underscores non-inhibitory properties of small molecules     |     Strategic and Tactical Decision-Making Under Uncertainty     |     2 . 1 Pursuit / Evader in the UAV / UGV domain</td>    </tr>    <tr>      <th>6</th>      <td>1753668669</td>      <td>Daphne Koller</td>      <td>4</td>      <td>1</td>      <td>A Data-Driven Lens to Understand Human Biology: An Interview with Daphne Koller     |     Conservation and divergence in modules of the transcriptional programs of the human and mouse immune systems [preprint]     |     ImmGen at 15     |     Speaker-specific terms and resources</td>    </tr>    <tr>      <th>7</th>      <td>46193831</td>      <td>D. Stanford</td>      <td>3</td>      <td>0</td>      <td>Unmanned Aircraft Systems     |     Inference : Exploiting Local Structure     |     Learning : Parameter Estimation</td>    </tr>  </tbody></table>\n",
    "\n",
    "Then generate an author+paper graph based on her ID:`1736370` \n",
    "\n",
    "```\n",
    "kolsGraph.build_author_citation_graph(1736370)\n",
    "kolsGraph.print_basic_stats()\n",
    "```\n",
    "\n",
    "This command performs the following steps: \n",
    "\n",
    "* Retrieve all her papers indexed in S2AG add those papers and all authors to the graph\n",
    "* Iterate through those papers and add any papers that either she cites 'meaninfully' or that cite her 'meaningfully' (for a definition of what constitutes a 'meaningful' citation, see [Valenzuela et al 2015](https://ai2-website.s3.amazonaws.com/publications/ValenzuelaHaMeaningfulCitations.pdf)). \n",
    "* Add or link authors to these papers. \n",
    "* Iterate over all papers in this extended set and add all citations / references between them.\n",
    "* Print out the results"
   ]
  },
  {
   "cell_type": "markdown",
   "metadata": {},
   "source": [
    " ### QueryTranslator class"
   ]
  },
  {
   "cell_type": "markdown",
   "metadata": {},
   "source": [
    " \n",
    "\n",
    "This class processes a Pandas Dataframe where one of the columns describes a Boolean Query that could be issued on an online scientific database written as a string (e.g., this query searches for various terms denoting neurodegenerative diseases and then links them to the phrase \"Machine Learning\": `'(\"Neurodegeneration\" | \"Neurodegenerative disease\" | \"Alzheimers Disease\" | \"Parkinsons Disease\") & \"Machine Learning\"'`. This dataframe must also contain a numerical ID column to identify each query. \n",
    "\n",
    "Load the class and instantiate it with dataframe:\n",
    "```\n",
    "from czLandscapingTk.queryTranslator import QueryType, QueryTranslator\n",
    "df = pd.DataFrame({'ID':0, 'query':'(\"Neurodegeneration\" | \"Neurodegenerative disease\" |\n",
    "    \"Alzheimers Disease\" | \"Parkinsons Disease\") & \"Machine Learning\"'})\n",
    "qt = QueryTranslator(df, 'query')\n",
    "```\n",
    "\n",
    "Generate a list of queries that work on Pubmed:\n",
    "```\n",
    "(corpus_ids, pubmed_queries) = qt.generate_queries(QueryType.pubmed)\n",
    "query = [{'ID':0, 'query': '(\"Neurodegeneration\" | \"Neurodegenerative disease\" | \"Alzheimers Disease\" | \"Parkinsons Disease\") & \"Machine Learning\"'}]\n",
    "df = pd.DataFrame(query)\n",
    "qt = QueryTranslator(df, 'query')\n",
    "print(qt.generate_queries(QueryType.pubmed))\n",
    "```\n",
    "\n",
    "This gives you the following output: \n",
    "```\n",
    "(t0 | t1 | t2 | t3) & t4\n",
    "([0], ['((\"Machine Learning\")[tiab]) AND ((\"Neurodegeneration\")[tiab]) OR (\"Neurodegenerative disease\")[tiab]) OR (\"Alzheimers Disease\")[tiab]) OR (\"Parkinsons Disease\")[tiab])))'])\n",
    "```\n",
    "\n",
    "Generate a list of queries that work on European PMC:\n",
    "```\n",
    "(corpus_ids, epmcs_queries) = qt.generate_queries(QueryType.epmc)\n",
    "```\n",
    "This will give you:\n",
    "```\n",
    "(t0 | t1 | t2 | t3) & t4\n",
    "([0], ['((paper_title:\"Machine Learning\" OR ABSTRACT:\"Machine Learning\") AND ((paper_title:\"Neurodegeneration\" OR ABSTRACT:\"Neurodegeneration\") OR (paper_title:\"Neurodegenerative disease\" OR ABSTRACT:\"Neurodegenerative disease\") OR (paper_title:\"Alzheimers Disease\" OR ABSTRACT:\"Alzheimers Disease\") OR (paper_title:\"Parkinsons Disease\" OR ABSTRACT:\"Parkinsons Disease\")))'])\n",
    "```\n",
    "\n",
    "Thus the same query can be executed easily on different APIs."
   ]
  },
  {
   "cell_type": "markdown",
   "metadata": {},
   "source": [
    " ### ESearchQuery / EFetchQuery"
   ]
  },
  {
   "cell_type": "markdown",
   "metadata": {},
   "source": [
    " \n",
    "\n",
    "These classes provides an interface for performing queries on NCBI Etuils. This is designed to work in conjunction with the `QueryTranslator` class. \n",
    "\n",
    "```\n",
    "from czLandscapingTk.searchEngineUtils import ESearchQuery, EFetchQuery\n",
    "\n",
    "import urllib.parse \n",
    "from time import time, sleep\n",
    "\n",
    "esq = ESearchQuery()\n",
    "pcd_search = urllib.parse.quote(\"Primary Ciliary Dyskinesia\")\n",
    "print(esq.execute_count_query(pcd_search))\n",
    "sleep(3) # Sleep for 3 seconds\n",
    "esq.execute_query(pcd_search)\n",
    "\n",
    "efq = EFetchQuery()\n",
    "sleep(3) # Sleep for 3 seconds\n",
    "efq.execute_efetch(35777446)\n",
    "```"
   ]
  },
  {
   "cell_type": "markdown",
   "metadata": {},
   "source": [
    " ### EuroPMCQuery"
   ]
  },
  {
   "cell_type": "markdown",
   "metadata": {},
   "source": [
    " \n",
    "These classes provides an interface for performing queries on European PMC. This is designed to work in conjunction with the `QueryTranslator` class. \n",
    "\n",
    "```\n",
    "from czLandscapingTk.searchEngineUtils import ESearchQuery, EFetchQuery\n",
    "\n",
    "import urllib.parse \n",
    "from time import time, sleep\n",
    "\n",
    "epmcq = EuroPMCQuery()\n",
    "pcd_search = urllib.parse.quote(\"Primary Ciliary Dyskinesia\")\n",
    "epmcq.run_empc_query(pcd_search)\n",
    "```"
   ]
  }
 ],
 "metadata": {
  "kernelspec": {
   "display_name": "Python 3",
   "language": "python",
   "name": "python3"
  }
 },
 "nbformat": 4,
 "nbformat_minor": 1
}
