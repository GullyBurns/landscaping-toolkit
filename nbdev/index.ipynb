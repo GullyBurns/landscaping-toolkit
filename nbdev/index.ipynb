{
 "cells": [
  {
   "cell_type": "code",
   "execution_count": 0,
   "metadata": {
    "application/vnd.databricks.v1+cell": {
     "cellMetadata": {},
     "inputWidgets": {},
     "nuid": "e3568fe7-0c76-4624-b15d-b3c7911b79ad",
     "showTitle": false,
     "title": ""
    }
   },
   "outputs": [],
   "source": [
    "#hide\n",
    "from nbdev import *\n",
    "#from your_lib.core import *"
   ]
  },
  {
   "cell_type": "markdown",
   "metadata": {
    "application/vnd.databricks.v1+cell": {
     "cellMetadata": {},
     "inputWidgets": {},
     "nuid": "130714d0-b011-4634-af33-62be9f7ff4b0",
     "showTitle": false,
     "title": ""
    }
   },
   "source": [
    "# Chan Zuckerberg Landscaping Toolkit\n",
    "# MAGIC\n",
    "> This project is under development and not yet stable. This is a library of components designed to support and facilitate 'scientific knowledge landscaping' within the Chan Zuckerberg Initiative's Science Program. It consists of several utility libraries to help build and analyze corpora of scientific knowledge expressed both as natural language and structured data. This system is built on the excellent [`nbdev`](https://nbdev.fast.ai/) package that uses notebooks as a vehicle for development."
   ]
  },
  {
   "cell_type": "markdown",
   "metadata": {
    "application/vnd.databricks.v1+cell": {
     "cellMetadata": {},
     "inputWidgets": {},
     "nuid": "1d96aaeb-be19-4f41-9fd2-953bc3667930",
     "showTitle": false,
     "title": ""
    }
   },
   "source": [
    "![General proposed workflow for Landscaping systems](https://lucid.app/publicSegments/view/fff0cc6d-c52d-447d-80ce-2f99f8ac0d29/image.png)\n",
    "# MAGIC\n",
    "Image source on LucidDraw: [Link](https://lucid.app/lucidchart/a49ee803-ac2d-47ac-a628-492f95dd9346/edit?viewport_loc=2%2C-253%2C2225%2C1488%2C0_0&invitationId=inv_d95f59bf-a965-4f07-a30e-4da281aab979)"
   ]
  },
  {
   "cell_type": "markdown",
   "metadata": {
    "application/vnd.databricks.v1+cell": {
     "cellMetadata": {},
     "inputWidgets": {},
     "nuid": "53870660-d97b-4550-bb15-8a50d9502608",
     "showTitle": false,
     "title": ""
    }
   },
   "source": [
    "# MAGIC\n",
    "CZI adheres to the Contributor Covenant [code of conduct](https://github.com/chanzuckerberg/.github/blob/master/CODE_OF_CONDUCT.md). By participating, you are expected to uphold this code. Please report unacceptable behavior to [opensource@chanzuckerberg.com](mailto:opensource@chanzuckerberg.com).\n",
    "# MAGIC\n",
    "Please note: If you believe you have found a security issue, please responsibly disclose by contacting us at [security@chanzuckerberg.com](mailto:security@chanzuckerberg.com)."
   ]
  },
  {
   "cell_type": "markdown",
   "metadata": {
    "application/vnd.databricks.v1+cell": {
     "cellMetadata": {},
     "inputWidgets": {},
     "nuid": "e4301de6-38b1-49e0-a128-ae864a8a1f98",
     "showTitle": false,
     "title": ""
    }
   },
   "source": [
    "## Install"
   ]
  },
  {
   "cell_type": "markdown",
   "metadata": {
    "application/vnd.databricks.v1+cell": {
     "cellMetadata": {},
     "inputWidgets": {},
     "nuid": "6959e468-ae1e-418c-996d-b1f3de804a6d",
     "showTitle": false,
     "title": ""
    }
   },
   "source": [
    "`pip install git+https://github.com/GullyBurns/czLandscapingTk.git`"
   ]
  },
  {
   "cell_type": "markdown",
   "metadata": {
    "application/vnd.databricks.v1+cell": {
     "cellMetadata": {},
     "inputWidgets": {},
     "nuid": "51ef448b-1e6b-4d4a-9092-0dec11aaa612",
     "showTitle": false,
     "title": ""
    }
   },
   "source": [
    "## How this system was built:"
   ]
  },
  {
   "cell_type": "markdown",
   "metadata": {
    "application/vnd.databricks.v1+cell": {
     "cellMetadata": {},
     "inputWidgets": {},
     "nuid": "ebae4d77-9970-499e-bfce-52f234fb34de",
     "showTitle": false,
     "title": ""
    }
   },
   "source": [
    "This libray is built on [databricks_to_nbdev_template](https://github.com/GullyBurns/databricks_to_nbdev_template), which is modified version of [nbdev_template](https://github.com/fastai/nbdev_template) tailored to work with databricks notebooks.\n",
    "# MAGIC\n",
    "The steps to contributing to the development of this library are based on a development pipeline that uses databricks. This means that this work will mainly be driven internally from with the CZI tech team: \n",
    "1. Clone this library from within databricks. \n",
    "2. Place your scripts and utility notebooks in subdirectories of the `databricks` folder in the file hierarchy.\n",
    "3. Any databricks notebooks that contain the text: `from nbdev import *` will be automatically converted to Jupyter notebooks that live at the root level of the repository.\n",
    "4. When you push this repository to Github from Databricks, Jupyter notebooks will be built, added to the repo and then processed by nbdev to generate modules and documentation (refer to https://nbdev.fast.ai/ for full documentation on how to do this). Note that pushing code to Github will add and commit *more* code to github, requiring you to perform another `git pull` to load and refer to the latest changes in your code."
   ]
  },
  {
   "cell_type": "markdown",
   "metadata": {
    "application/vnd.databricks.v1+cell": {
     "cellMetadata": {},
     "inputWidgets": {},
     "nuid": "97b38374-9a4e-4ca5-a845-4a194f0d42a6",
     "showTitle": false,
     "title": ""
    }
   },
   "source": [
    "## High-level Design: The Surveying Knowledge Task"
   ]
  },
  {
   "cell_type": "code",
   "execution_count": 0,
   "metadata": {
    "application/vnd.databricks.v1+cell": {
     "cellMetadata": {},
     "inputWidgets": {},
     "nuid": "c0c86b12-0dae-4635-a990-09f8a7781a35",
     "showTitle": false,
     "title": ""
    }
   },
   "outputs": [],
   "source": [
    "# MAGIC\n",
    "# MAGIC %md This project is focussed on provide a suite of generalizable tools that can be used by knowledge analysts to implement solutions for surveying tasks. The basic structure of this class of data analysis can be described in the following way:"
   ]
  },
  {
   "cell_type": "markdown",
   "metadata": {
    "application/vnd.databricks.v1+cell": {
     "cellMetadata": {},
     "inputWidgets": {},
     "nuid": "df8f0386-b197-4c1c-813a-1678feff56cb",
     "showTitle": false,
     "title": ""
    }
   },
   "source": [
    "### Goal \n",
    "# MAGIC\n",
    "An analytic task, where we attempt to _answer a question_ by (A) surveying existing data sources, (B) compiling an intermedical knowledge corpus drawn from those sources, (C) analysing that corpus to yield an answer to the question."
   ]
  },
  {
   "cell_type": "markdown",
   "metadata": {
    "application/vnd.databricks.v1+cell": {
     "cellMetadata": {},
     "inputWidgets": {},
     "nuid": "8d5f9a88-8f75-418d-9ef6-b9f4c42ba7e6",
     "showTitle": false,
     "title": ""
    }
   },
   "source": [
    "### Typical Example \n",
    "# MAGIC\n",
    "1. Identifying a set of Key Opinion Leaders (KOLs) with specialized expertise in an understudied area. \n",
    "2. Performing a systematic review of available treatments for a specific rare disease\n",
    "3. Developing (and using) reproducible impact metrics for a funded scientific program to study what is working and what is not."
   ]
  },
  {
   "cell_type": "markdown",
   "metadata": {
    "application/vnd.databricks.v1+cell": {
     "cellMetadata": {},
     "inputWidgets": {},
     "nuid": "2c51f51f-4354-461c-ad27-81d63bea3d23",
     "showTitle": false,
     "title": ""
    }
   },
   "source": [
    "### Terminology + Implementation Design\n",
    "# MAGIC\n",
    "* **`Question`** - A natural language expression of the research question that is the objective of the task\n",
    "* **`Study Data Sources`** - List of avaiable information sources that can be interrogated by executors of the task\n",
    "* **`Information Retrieval Query`** (`IR Query`) - A list of logically-defined queries that can be run over the data sources \n",
    "* **`Inclusion / Exclusion Criteria`** - Logical operators to determine if retrieved data should be included in the study\n",
    "* **`Intermediate Corpus`** - Schema and Data of the collection of documents gathered from external information sources\n",
    "* **`Analysis`** - Workflow specification of analyses to be performed over the intermediate corpus to generate an `Answer`\n",
    "* **`Answer`** - The answer to the `question` expressed in natural language with a full explanation of the provenance of how the answer was computed."
   ]
  },
  {
   "cell_type": "markdown",
   "metadata": {
    "application/vnd.databricks.v1+cell": {
     "cellMetadata": {},
     "inputWidgets": {},
     "nuid": "65c5b224-4a47-4cbd-b297-ca403b720cf1",
     "showTitle": false,
     "title": ""
    }
   },
   "source": [
    "### Organizational Model\n",
    "# MAGIC\n",
    "![General proposed workflow for Landscaping systems](https://lucid.app/publicSegments/view/fea24e0a-61c7-4807-8ea2-e4859753c31b/image.png)\n",
    "# MAGIC\n",
    "Image source on LucidDraw: [Link](https://lucid.app/lucidchart/68ab2fbd-bbad-4573-92a2-10d5bc5f207b/edit?viewport_loc=-324%2C-503%2C3077%2C2403%2C0_0&invitationId=inv_ea8ab8dd-4284-4fb3-93b7-2eb530ce1ccb)\n",
    "# MAGIC\n",
    "Adopting the CommonKADS knowledge engineering design process, we consider the interplay between agents (swimlanes), processes, and items in the figure. In particular, we seek to characterize how knowledge is needed, used, or derived in the workflow.\n",
    "# MAGIC\n",
    "The goal of this project is to provide code to execute the processes described above to provide an extensible set of executable computational tools to automate the process shown."
   ]
  }
 ],
 "metadata": {
  "anaconda-cloud": {},
  "application/vnd.databricks.v1+notebook": {
   "dashboards": [],
   "language": "python",
   "notebookMetadata": {},
   "notebookName": "index",
   "widgets": {}
  },
  "kernelspec": {
   "display_name": "Python 3",
   "language": "python",
   "name": "python3"
  },
  "language_info": {
   "codemirror_mode": {
    "name": "ipython",
    "version": 3
   },
   "file_extension": ".py",
   "mimetype": "text/x-python",
   "name": "python",
   "nbconvert_exporter": "python",
   "pygments_lexer": "ipython3",
   "version": "3.6.1"
  }
 },
 "nbformat": 4,
 "nbformat_minor": 0
}
