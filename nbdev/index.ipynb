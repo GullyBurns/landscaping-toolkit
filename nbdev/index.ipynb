{
 "cells": [
  {
   "cell_type": "code",
   "execution_count": 0,
   "metadata": {
    "application/vnd.databricks.v1+cell": {
     "cellMetadata": {},
     "inputWidgets": {},
     "nuid": "307da00b-2d5a-4ddf-882b-b5d47a38ad44",
     "showTitle": false,
     "title": ""
    }
   },
   "outputs": [],
   "source": [
    "#hide\n",
    "from nbdev import *\n",
    "#from your_lib.core import *"
   ]
  },
  {
   "cell_type": "markdown",
   "metadata": {
    "application/vnd.databricks.v1+cell": {
     "cellMetadata": {},
     "inputWidgets": {},
     "nuid": "68a34584-baac-46ea-aa98-e4327cebbffd",
     "showTitle": false,
     "title": ""
    }
   },
   "source": [
    "# Chan Zuckerberg Landscaping Toolkit\n",
    "# MAGIC\n",
    "> This project is under development and not yet stable. This is a library of components designed to support and facilitate 'scientific knowledge landscaping' within the Chan Zuckerberg Initiative's Science Program. It consists of several utility libraries to help build and analyze corpora of scientific knowledge expressed both as natural language and structured data. This system is built on the excellent [`nbdev`](https://nbdev.fast.ai/) package that uses notebooks as a vehicle for development."
   ]
  },
  {
   "cell_type": "markdown",
   "metadata": {
    "application/vnd.databricks.v1+cell": {
     "cellMetadata": {},
     "inputWidgets": {},
     "nuid": "1c130a66-b4ac-4b3a-a18a-529cd5ca31fc",
     "showTitle": false,
     "title": ""
    }
   },
   "source": [
    "![General proposed workflow for Landscaping systems](https://lucid.app/publicSegments/view/fff0cc6d-c52d-447d-80ce-2f99f8ac0d29/image.png)\n",
    "# MAGIC\n",
    "Image source on LucidDraw: [Link](https://lucid.app/lucidchart/a49ee803-ac2d-47ac-a628-492f95dd9346/edit?viewport_loc=2%2C-253%2C2225%2C1488%2C0_0&invitationId=inv_d95f59bf-a965-4f07-a30e-4da281aab979)"
   ]
  },
  {
   "cell_type": "markdown",
   "metadata": {
    "application/vnd.databricks.v1+cell": {
     "cellMetadata": {},
     "inputWidgets": {},
     "nuid": "f8eefc48-7f09-4bfc-a707-671efa10b279",
     "showTitle": false,
     "title": ""
    }
   },
   "source": [
    "# MAGIC\n",
    "CZI adheres to the Contributor Covenant [code of conduct](https://github.com/chanzuckerberg/.github/blob/master/CODE_OF_CONDUCT.md). By participating, you are expected to uphold this code. Please report unacceptable behavior to [opensource@chanzuckerberg.com](mailto:opensource@chanzuckerberg.com).\n",
    "# MAGIC\n",
    "Please note: If you believe you have found a security issue, please responsibly disclose by contacting us at [security@chanzuckerberg.com](mailto:security@chanzuckerberg.com)."
   ]
  },
  {
   "cell_type": "markdown",
   "metadata": {
    "application/vnd.databricks.v1+cell": {
     "cellMetadata": {},
     "inputWidgets": {},
     "nuid": "a4ed7fd6-e91b-4be6-a9ef-df86d428f669",
     "showTitle": false,
     "title": ""
    }
   },
   "source": [
    "## Install"
   ]
  },
  {
   "cell_type": "markdown",
   "metadata": {
    "application/vnd.databricks.v1+cell": {
     "cellMetadata": {},
     "inputWidgets": {},
     "nuid": "26851292-9f9e-4ae7-9ee3-6e95b5e771ea",
     "showTitle": false,
     "title": ""
    }
   },
   "source": [
    "`pip install git+https://github.com/GullyBurns/czLandscapingTk.git`"
   ]
  },
  {
   "cell_type": "markdown",
   "metadata": {
    "application/vnd.databricks.v1+cell": {
     "cellMetadata": {},
     "inputWidgets": {},
     "nuid": "62e4f041-1d20-4d71-bd7d-61f82763c65b",
     "showTitle": false,
     "title": ""
    }
   },
   "source": [
    "## How this system was built:"
   ]
  },
  {
   "cell_type": "markdown",
   "metadata": {
    "application/vnd.databricks.v1+cell": {
     "cellMetadata": {},
     "inputWidgets": {},
     "nuid": "2f136e7c-005a-4edd-b800-c99b1cc4142d",
     "showTitle": false,
     "title": ""
    }
   },
   "source": [
    "This libray is built on [databricks_to_nbdev_template](https://github.com/GullyBurns/databricks_to_nbdev_template), which is modified version of [nbdev_template](https://github.com/fastai/nbdev_template) tailored to work with databricks notebooks.\n",
    "# MAGIC\n",
    "The steps to contributing to the development of this library are based on a development pipeline that uses databricks. This means that this work will mainly be driven internally from with the CZI tech team: \n",
    "1. Clone this library from within databricks. \n",
    "2. Place your scripts and utility notebooks in subdirectories of the `databricks` folder in the file hierarchy.\n",
    "3. Any databricks notebooks that contain the text: `from nbdev import *` will be automatically converted to Jupyter notebooks that live at the root level of the repository.\n",
    "4. When you push this repository to Github from Databricks, Jupyter notebooks will be built, added to the repo and then processed by nbdev to generate modules and documentation (refer to https://nbdev.fast.ai/ for full documentation on how to do this). Note that pushing code to Github will add and commit *more* code to github, requiring you to perform another `git pull` to load and refer to the latest changes in your code."
   ]
  },
  {
   "cell_type": "markdown",
   "metadata": {
    "application/vnd.databricks.v1+cell": {
     "cellMetadata": {},
     "inputWidgets": {},
     "nuid": "c265530e-7b0d-41a5-b40c-b5e5fca28948",
     "showTitle": false,
     "title": ""
    }
   },
   "source": [
    "## High-level Design: The Surveying Knowledge Task"
   ]
  },
  {
   "cell_type": "code",
   "execution_count": 0,
   "metadata": {
    "application/vnd.databricks.v1+cell": {
     "cellMetadata": {},
     "inputWidgets": {},
     "nuid": "36e3b3fc-050c-4ae7-984c-cc49aeec45dd",
     "showTitle": false,
     "title": ""
    }
   },
   "outputs": [],
   "source": [
    "# MAGIC\n",
    "# MAGIC %md This project is focussed on provide a suite of generalizable tools that can be used by knowledge analysts to implement solutions for surveying tasks. The basic structure of this class of data analysis can be described in the following way:"
   ]
  },
  {
   "cell_type": "markdown",
   "metadata": {
    "application/vnd.databricks.v1+cell": {
     "cellMetadata": {},
     "inputWidgets": {},
     "nuid": "426be5c8-2d03-4df6-9b39-6f34c8b5d72b",
     "showTitle": false,
     "title": ""
    }
   },
   "source": [
    "### Goal \n",
    "# MAGIC\n",
    "An analytic task, where we attempt to _answer a question_ by (A) surveying existing data sources, (B) compiling an intermedical knowledge corpus drawn from those sources, (C) analysing that corpus to yield an answer to the question."
   ]
  },
  {
   "cell_type": "markdown",
   "metadata": {
    "application/vnd.databricks.v1+cell": {
     "cellMetadata": {},
     "inputWidgets": {},
     "nuid": "532d78a8-b71f-48ff-abc1-2d7b5abfda5b",
     "showTitle": false,
     "title": ""
    }
   },
   "source": [
    "### Typical Example \n",
    "# MAGIC\n",
    "1. Identifying a set of Key Opinion Leaders (KOLs) with specialized expertise in an understudied area. \n",
    "2. Performing a systematic review of available treatments for a specific rare disease\n",
    "3. Developing (and using) reproducible impact metrics for a funded scientific program to study what is working and what is not."
   ]
  },
  {
   "cell_type": "markdown",
   "metadata": {
    "application/vnd.databricks.v1+cell": {
     "cellMetadata": {},
     "inputWidgets": {},
     "nuid": "ae34149a-7f3d-4b37-92a8-acf57bcb64cc",
     "showTitle": false,
     "title": ""
    }
   },
   "source": [
    "### Terminology + Implementation Design\n",
    "# MAGIC\n",
    "* **`Question`** - A natural language expression of the research question that is the objective of the task\n",
    "* **`Study Data Sources`** - List of avaiable information sources that can be interrogated by executors of the task\n",
    "* **`Information Retrieval Query`** (`IR Query`) - A list of logically-defined queries that can be run over the data sources \n",
    "* **`Inclusion / Exclusion Criteria`** - Logical operators to determine if retrieved data should be included in the study\n",
    "* **`Intermediate Corpus`** - Schema and Data of the collection of documents gathered from external information sources\n",
    "* **`Analysis`** - Workflow specification of analyses to be performed over the intermediate corpus to generate an `Answer`\n",
    "* **`Answer`** - The answer to the `question` expressed in natural language with a full explanation of the provenance of how the answer was computed."
   ]
  },
  {
   "cell_type": "markdown",
   "metadata": {
    "application/vnd.databricks.v1+cell": {
     "cellMetadata": {},
     "inputWidgets": {},
     "nuid": "ef7f2165-48d5-4ebc-a65e-1bb1dd8d16c9",
     "showTitle": false,
     "title": ""
    }
   },
   "source": [
    "### Organizational Model\n",
    "# MAGIC\n",
    "![General proposed workflow for Landscaping systems](https://lucid.app/publicSegments/view/fea24e0a-61c7-4807-8ea2-e4859753c31b/image.png)\n",
    "# MAGIC\n",
    "Image source on LucidDraw: [Link](https://lucid.app/lucidchart/68ab2fbd-bbad-4573-92a2-10d5bc5f207b/edit?viewport_loc=-324%2C-503%2C3077%2C2403%2C0_0&invitationId=inv_ea8ab8dd-4284-4fb3-93b7-2eb530ce1ccb)\n",
    "# MAGIC\n",
    "Adopting the CommonKADS knowledge engineering design process, we consider the interplay between agents (swimlanes), processes, and items in the figure. In particular, we seek to characterize how knowledge is needed, used, or derived in the workflow.\n",
    "# MAGIC\n",
    "The goal of this project is to provide code to execute the processes described above to provide an extensible set of executable computational tools to automate the process shown."
   ]
  }
 ],
 "metadata": {
  "anaconda-cloud": {},
  "application/vnd.databricks.v1+notebook": {
   "dashboards": [],
   "language": "python",
   "notebookMetadata": {
    "pythonIndentUnit": 4
   },
   "notebookName": "index",
   "widgets": {}
  },
  "kernelspec": {
   "display_name": "Python 3",
   "language": "python",
   "name": "python3"
  },
  "language_info": {
   "codemirror_mode": {
    "name": "ipython",
    "version": 3
   },
   "file_extension": ".py",
   "mimetype": "text/x-python",
   "name": "python",
   "nbconvert_exporter": "python",
   "pygments_lexer": "ipython3",
   "version": "3.6.1"
  }
 },
 "nbformat": 4,
 "nbformat_minor": 0
}
