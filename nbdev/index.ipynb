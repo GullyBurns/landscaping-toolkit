{
 "cells": [
  {
   "cell_type": "code",
   "execution_count": null,
   "metadata": {},
   "outputs": [],
   "source": [
    "#| hide\n",
    "from nbdev import *"
   ]
  },
  {
   "attachments": {},
   "cell_type": "markdown",
   "metadata": {},
   "source": [
    "# Chan Zuckerberg Landscaping Toolkit\n",
    "\n",
    "> Accelerating our understanding of the **context** of SciTech development"
   ]
  },
  {
   "attachments": {},
   "cell_type": "markdown",
   "metadata": {},
   "source": [
    "This project is under development and not yet stable. This is a library of components designed to support and facilitate 'scientific knowledge landscaping' within the Chan Zuckerberg Initiative's Science Program. It consists of several utility libraries to help build and analyze corpora of scientific knowledge expressed both as natural language and structured data. This system is built on the excellent [`nbdev`](https://nbdev.fast.ai/) package that uses notebooks as a vehicle for development."
   ]
  },
  {
   "attachments": {},
   "cell_type": "markdown",
   "metadata": {},
   "source": [
    "# Installation & Code of Ethics"
   ]
  },
  {
   "attachments": {},
   "cell_type": "markdown",
   "metadata": {},
   "source": [
    "`pip install git+https://github.com/chanzuckerberg/czLandscapingTk.git`"
   ]
  },
  {
   "attachments": {},
   "cell_type": "markdown",
   "metadata": {},
   "source": [
    "CZI adheres to the Contributor Covenant [code of conduct](https://github.com/chanzuckerberg/.github/blob/master/CODE_OF_CONDUCT.md). By participating, you are expected to uphold this code. Please report unacceptable behavior to [opensource@chanzuckerberg.com](mailto:opensource@chanzuckerberg.com).\n",
    "\n",
    " Please note: If you believe you have found a security issue, please responsibly disclose by contacting us at [security@chanzuckerberg.com](mailto:security@chanzuckerberg.com)."
   ]
  },
  {
   "attachments": {},
   "cell_type": "markdown",
   "metadata": {},
   "source": [
    "# High-level Design: The Surveying Knowledge Task"
   ]
  },
  {
   "attachments": {},
   "cell_type": "markdown",
   "metadata": {},
   "source": [
    "This project is focussed on provide a suite of generalizable tools that can be used by knowledge analysts to implement solutions for surveying tasks. The basic structure of this class of data analysis can be described in the following way:"
   ]
  },
  {
   "attachments": {},
   "cell_type": "markdown",
   "metadata": {},
   "source": [
    "## Goal \n",
    "\n",
    " An analytic task, where we attempt to _answer a question_ by (A) surveying existing data sources, (B) compiling an intermedical knowledge corpus drawn from those sources, (C) analysing that corpus to yield an answer to the question."
   ]
  },
  {
   "attachments": {},
   "cell_type": "markdown",
   "metadata": {},
   "source": [
    "## Typical Example \n",
    "\n",
    " 1. Identifying a set of Key Opinion Leaders (KOLs) with specialized expertise in an understudied area. \n",
    " 2. Performing a systematic review of available treatments for a specific rare disease\n",
    " 3. Developing (and using) reproducible impact metrics for a funded scientific program to study what is working and what is not."
   ]
  },
  {
   "attachments": {},
   "cell_type": "markdown",
   "metadata": {},
   "source": [
    "## Terminology + Implementation Design\n",
    "\n",
    " * **`Question`** - A natural language expression of the research question that is the objective of the task\n",
    " * **`Study Data Sources`** - List of avaiable information sources that can be interrogated by executors of the task\n",
    " * **`Information Retrieval Query`** (`IR Query`) - A list of logically-defined queries that can be run over the data sources \n",
    " * **`Inclusion / Exclusion Criteria`** - Logical operators to determine if retrieved data should be included in the study\n",
    " * **`Intermediate Corpus`** - Schema and Data of the collection of documents gathered from external information sources\n",
    " * **`Analysis`** - Workflow specification of analyses to be performed over the intermediate corpus to generate an `Answer`\n",
    " * **`Answer`** - The answer to the `question` expressed in natural language with a full explanation of the provenance of how the answer was computed."
   ]
  },
  {
   "attachments": {},
   "cell_type": "markdown",
   "metadata": {},
   "source": [
    "## Organizational Model\n",
    "\n",
    " ![General proposed workflow for Landscaping systems](https://lucid.app/publicSegments/view/fea24e0a-61c7-4807-8ea2-e4859753c31b/image.png)\n",
    "\n",
    " Image source on LucidDraw: [Link](https://lucid.app/lucidchart/68ab2fbd-bbad-4573-92a2-10d5bc5f207b/edit?viewport_loc=-324%2C-503%2C3077%2C2403%2C0_0&invitationId=inv_ea8ab8dd-4284-4fb3-93b7-2eb530ce1ccb)\n",
    "\n",
    " Adopting the CommonKADS knowledge engineering design process, we consider the interplay between agents (swimlanes), processes, and items in the figure. In particular, we seek to characterize how knowledge is needed, used, or derived in the workflow.\n",
    "\n",
    " The goal of this project is to provide code to execute the processes described above to provide an extensible set of executable computational tools to automate the process shown."
   ]
  },
  {
   "attachments": {},
   "cell_type": "markdown",
   "metadata": {},
   "source": [
    "# Basic System Workflow"
   ]
  },
  {
   "attachments": {},
   "cell_type": "markdown",
   "metadata": {},
   "source": [
    "![General proposed workflow for Landscaping systems](https://lucid.app/publicSegments/view/fff0cc6d-c52d-447d-80ce-2f99f8ac0d29/image.png)\n",
    "\n",
    " Image source on LucidDraw: [Link](https://lucid.app/lucidchart/a49ee803-ac2d-47ac-a628-492f95dd9346/edit?viewport_loc=2%2C-253%2C2225%2C1488%2C0_0&invitationId=inv_d95f59bf-a965-4f07-a30e-4da281aab979)"
   ]
  }
 ],
 "metadata": {
  "kernelspec": {
   "display_name": "python3",
   "language": "python",
   "name": "python3"
  }
 },
 "nbformat": 4,
 "nbformat_minor": 0
}
