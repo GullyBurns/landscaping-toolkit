{
  "cells": [
    {
      "cell_type": "code",
      "metadata": {},
      "source": [
        "#|default_exp generalUtils\n",
        "from nbdev import *"
      ],
      "outputs": [],
      "execution_count": null
    },
    {
      "cell_type": "markdown",
      "metadata": {},
      "source": [
        " # General Utilities  \n",
        "\n",
        "> Utility classes for the Landscaping Platform"
      ]
    },
    {
      "cell_type": "code",
      "metadata": {},
      "source": [
        "#export\n",
        "\n",
        "from enum import Enum  "
      ],
      "outputs": [],
      "execution_count": null
    },
    {
      "cell_type": "code",
      "metadata": {},
      "source": [
        "#export\n",
        "\n",
        "class ID_Type(Enum):\n",
        "    \"\"\"\n",
        "    Types of universal IDs / Accession numbers used in this library\n",
        "    \"\"\"\n",
        "    pmid = 0\n",
        "    doi = 1\n",
        "    s2ag = 2\n"
      ],
      "outputs": [],
      "execution_count": null
    }
  ],
  "metadata": {
    "anaconda-cloud": {},
    "kernelspec": {
      "display_name": "Python 3",
      "language": "python",
      "name": "python3"
    },
    "language_info": {
      "codemirror_mode": {
        "name": "ipython",
        "version": 3
      },
      "file_extension": ".py",
      "mimetype": "text/x-python",
      "name": "python",
      "nbconvert_exporter": "python",
      "pygments_lexer": "ipython3",
      "version": "3.6.1"
    }
  },
  "nbformat": 4,
  "nbformat_minor": 1
}