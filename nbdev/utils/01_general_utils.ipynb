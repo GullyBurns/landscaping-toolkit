{
 "cells": [
  {
   "cell_type": "markdown",
   "metadata": {
    "application/vnd.databricks.v1+cell": {
     "cellMetadata": {},
     "inputWidgets": {},
     "nuid": "856a03e6-2de7-4d69-9a72-493b6343f6a7",
     "showTitle": false,
     "title": ""
    }
   },
   "source": [
    "# General Utilities  \n",
    "\n",
    " > Utility classes for the Landscaping Platform"
   ]
  },
  {
   "cell_type": "code",
   "execution_count": 0,
   "metadata": {
    "application/vnd.databricks.v1+cell": {
     "cellMetadata": {},
     "inputWidgets": {},
     "nuid": "6665f3e3-1db2-4e96-abf3-3abedb9cb353",
     "showTitle": false,
     "title": ""
    }
   },
   "outputs": [],
   "source": [
    "#| default_exp generalUtils"
   ]
  },
  {
   "cell_type": "code",
   "execution_count": 0,
   "metadata": {
    "application/vnd.databricks.v1+cell": {
     "cellMetadata": {},
     "inputWidgets": {},
     "nuid": "4f39d643-ee5e-4a97-90eb-be0ddfa0fb31",
     "showTitle": false,
     "title": ""
    }
   },
   "outputs": [],
   "source": [
    "#| hide\n",
    "from nbdev import *"
   ]
  },
  {
   "cell_type": "code",
   "execution_count": 0,
   "metadata": {
    "application/vnd.databricks.v1+cell": {
     "cellMetadata": {},
     "inputWidgets": {},
     "nuid": "2518f701-f283-4362-b991-112e36ba010a",
     "showTitle": false,
     "title": ""
    }
   },
   "outputs": [],
   "source": [
    "#| export\n",
    "\n",
    "from enum import Enum  "
   ]
  },
  {
   "cell_type": "code",
   "execution_count": 0,
   "metadata": {
    "application/vnd.databricks.v1+cell": {
     "cellMetadata": {},
     "inputWidgets": {},
     "nuid": "ec572bff-a7c1-4506-ac6b-2138297bcae1",
     "showTitle": false,
     "title": ""
    }
   },
   "outputs": [],
   "source": [
    "#export\n",
    "\n",
    "class ID_Type(Enum):\n",
    "    \"\"\"\n",
    "    Types of universal IDs / Accession numbers used in this library\n",
    "    \"\"\"\n",
    "    pmid = 0\n",
    "    doi = 1\n",
    "    s2ag = 2\n"
   ]
  }
 ],
 "metadata": {
  "application/vnd.databricks.v1+notebook": {
   "dashboards": [],
   "language": "python",
   "notebookMetadata": {},
   "notebookName": "01_general_utils",
   "widgets": {}
  },
  "kernelspec": {
   "display_name": "python3",
   "language": "python",
   "name": "python3"
  }
 },
 "nbformat": 4,
 "nbformat_minor": 0
}
