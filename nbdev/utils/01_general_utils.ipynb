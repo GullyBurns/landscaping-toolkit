{
 "cells": [
  {
   "cell_type": "code",
   "execution_count": null,
   "metadata": {},
   "outputs": [],
   "source": [
    "# default_exp generalUtils\n",
    "from nbdev import *"
   ]
  },
  {
   "cell_type": "markdown",
   "metadata": {},
   "source": [
    " # General Utilities  \n",
    "\n",
    "> Utility classes for the Landscaping Platform"
   ]
  },
  {
   "cell_type": "code",
   "execution_count": null,
   "metadata": {},
   "outputs": [],
   "source": [
    "from enum import Enum  \n",
    "\n",
    "class ID_Type(Enum):\n",
    "    \"\"\"\n",
    "    Types of universal IDs / Accession numbers used in this library\n",
    "    \"\"\"\n",
    "    pmid = 0\n",
    "    doi = 1\n",
    "    s2ag = 2\n"
   ]
  }
 ],
 "metadata": {
  "kernelspec": {
   "display_name": "Python 3",
   "language": "python",
   "name": "python3"
  }
 },
 "nbformat": 4,
 "nbformat_minor": 1
}
