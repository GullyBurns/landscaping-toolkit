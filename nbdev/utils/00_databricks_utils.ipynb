{
 "cells": [
  {
   "cell_type": "code",
   "execution_count": 0,
   "metadata": {
    "application/vnd.databricks.v1+cell": {
     "cellMetadata": {},
     "inputWidgets": {},
     "nuid": "11ae88d0-d11c-4f0e-ae31-4af48a5cc659",
     "showTitle": false,
     "title": ""
    }
   },
   "outputs": [],
   "source": [
    "# default_exp generalUtils\n",
    "from nbdev import *"
   ]
  },
  {
   "cell_type": "markdown",
   "metadata": {
    "application/vnd.databricks.v1+cell": {
     "cellMetadata": {},
     "inputWidgets": {},
     "nuid": "74544826-27e5-4bf6-a01c-5b2464f7527f",
     "showTitle": false,
     "title": ""
    }
   },
   "source": [
    "# Databricks Utilities \n",
    "> Tools for use within databricks notebooks."
   ]
  },
  {
   "cell_type": "code",
   "execution_count": 0,
   "metadata": {
    "application/vnd.databricks.v1+cell": {
     "cellMetadata": {},
     "inputWidgets": {},
     "nuid": "13419d28-e230-4f85-835a-e210f154c3f9",
     "showTitle": false,
     "title": ""
    }
   },
   "outputs": [],
   "source": [
    "#export\n",
    "\n",
    "import pytz\n",
    "from datetime import datetime\n",
    "import re\n",
    "\n",
    "def dump_data_to_disk(df, file_stem, databricks_url='https://ie-meta-prod-databricks-workspace.cloud.databricks.com', sep='\\t'):\n",
    "  ''' \n",
    "  Save a Pandas's Dataframe to disk and returns a URL where you can download it\n",
    "  \n",
    "  `file_stem`: the location to save the file in the databricks file system. String must start with '/dbfs/FileStore/'\n",
    "  `databricks_url`: is the URL for the Databricks environment being used. Defaults to the CZI workspace. \n",
    "  '''\n",
    "  if sep=='\\t':\n",
    "    suffix = '.tsv'\n",
    "  elif sep==',':\n",
    "    suffix = '.csv'\n",
    "  else:\n",
    "    raise Exception('separator must be either a TAB or COMMA')\n",
    "  tz = pytz.timezone('America/Los_Angeles')\n",
    "  now = datetime.now(tz=tz)\n",
    "  datestamp = now.strftime(\"%Y_%m_%d\")\n",
    "  data_path = file_stem+datestamp+suffix\n",
    "  df = df.replace(r'\\\\\\\\n', ' ', regex=True)\n",
    "  df.to_csv(data_path, sep=sep, index=False)\n",
    "  databricks_stem = databricks_url + '/files/'\n",
    "  url = re.sub('/dbfs/FileStore/', databricks_stem, data_path)\n",
    "  name = file_stem\n",
    "  name_match = re.search('/([a-zA-Z0-9_]+)_*$', file_stem)\n",
    "  if name_match:\n",
    "    name = name_match.group(1)\n",
    "  return url"
   ]
  },
  {
   "cell_type": "code",
   "execution_count": 0,
   "metadata": {
    "application/vnd.databricks.v1+cell": {
     "cellMetadata": {},
     "inputWidgets": {},
     "nuid": "220a4a96-366f-485b-a327-9d22e8ae647f",
     "showTitle": false,
     "title": ""
    }
   },
   "outputs": [],
   "source": [
    "show_doc(dump_data_to_disk)"
   ]
  }
 ],
 "metadata": {
  "anaconda-cloud": {},
  "application/vnd.databricks.v1+notebook": {
   "dashboards": [],
   "language": "python",
   "notebookMetadata": {},
   "notebookName": "00_databricks_utils",
   "widgets": {}
  },
  "kernelspec": {
   "display_name": "Python 3",
   "language": "python",
   "name": "python3"
  },
  "language_info": {
   "codemirror_mode": {
    "name": "ipython",
    "version": 3
   },
   "file_extension": ".py",
   "mimetype": "text/x-python",
   "name": "python",
   "nbconvert_exporter": "python",
   "pygments_lexer": "ipython3",
   "version": "3.6.1"
  }
 },
 "nbformat": 4,
 "nbformat_minor": 0
}
