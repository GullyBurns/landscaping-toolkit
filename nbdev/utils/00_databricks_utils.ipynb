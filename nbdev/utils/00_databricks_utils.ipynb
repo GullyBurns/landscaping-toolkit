{
 "cells": [
  {
   "cell_type": "markdown",
   "metadata": {
    "application/vnd.databricks.v1+cell": {
     "cellMetadata": {},
     "inputWidgets": {},
     "nuid": "97efa2ba-5504-4153-a185-1c0a9a4542a0",
     "showTitle": false,
     "title": ""
    }
   },
   "source": [
    "# Databricks Utilities \n",
    " > Tools for use within databricks notebooks."
   ]
  },
  {
   "cell_type": "code",
   "execution_count": 0,
   "metadata": {
    "application/vnd.databricks.v1+cell": {
     "cellMetadata": {},
     "inputWidgets": {},
     "nuid": "7a42c154-1580-4846-93f4-ce0ba6650825",
     "showTitle": false,
     "title": ""
    }
   },
   "outputs": [],
   "source": [
    "#| default_exp databricksUtils"
   ]
  },
  {
   "cell_type": "code",
   "execution_count": 0,
   "metadata": {
    "application/vnd.databricks.v1+cell": {
     "cellMetadata": {},
     "inputWidgets": {},
     "nuid": "12a77ece-ebc0-4bd3-98be-a6e373e3c95e",
     "showTitle": false,
     "title": ""
    }
   },
   "outputs": [],
   "source": [
    "#| hide\n",
    "from nbdev import *"
   ]
  },
  {
   "cell_type": "code",
   "execution_count": 0,
   "metadata": {
    "application/vnd.databricks.v1+cell": {
     "cellMetadata": {},
     "inputWidgets": {},
     "nuid": "a2965b8e-d513-45f1-9b96-f027ddb62a7e",
     "showTitle": false,
     "title": ""
    }
   },
   "outputs": [],
   "source": [
    "#| export\n",
    "\n",
    "import pytz\n",
    "\n",
    "from datetime import datetime\n",
    "\n",
    "import re"
   ]
  },
  {
   "cell_type": "code",
   "execution_count": 0,
   "metadata": {
    "application/vnd.databricks.v1+cell": {
     "cellMetadata": {},
     "inputWidgets": {},
     "nuid": "265f2a1e-b83b-467a-966d-678847b59cd6",
     "showTitle": false,
     "title": ""
    }
   },
   "outputs": [],
   "source": [
    "#| export\n",
    "\n",
    "def dump_data_to_disk(df, file_stem, databricks_url='https://ie-meta-prod-databricks-workspace.cloud.databricks.com', sep='\\t'):\n",
    "  ''' \n",
    "  Save a Pandas's Dataframe to disk and returns a URL where you can download it\n",
    "  \n",
    "  `file_stem`: the location to save the file in the databricks file system. String must start with '/dbfs/FileStore/'\n",
    "  `databricks_url`: is the URL for the Databricks environment being used. Defaults to the CZI workspace. \n",
    "  '''\n",
    "  if sep=='\\t':\n",
    "    suffix = '.tsv'\n",
    "  elif sep==',':\n",
    "    suffix = '.csv'\n",
    "  else:\n",
    "    raise Exception('separator must be either a TAB or COMMA')\n",
    "  tz = pytz.timezone('America/Los_Angeles')\n",
    "  now = datetime.now(tz=tz)\n",
    "  datestamp = now.strftime(\"%Y_%m_%d\")\n",
    "  data_path = file_stem+datestamp+suffix\n",
    "  df = df.replace(r'\\\\\\\\n', ' ', regex=True)\n",
    "  df.to_csv(data_path, sep=sep, index=False)\n",
    "  databricks_stem = databricks_url + '/files/'\n",
    "  url = re.sub('/dbfs/FileStore/', databricks_stem, data_path)\n",
    "  name = file_stem\n",
    "  name_match = re.search('/([a-zA-Z0-9_]+)_*$', file_stem)\n",
    "  if name_match:\n",
    "    name = name_match.group(1)\n",
    "\n",
    "  return url\n"
   ]
  }
 ],
 "metadata": {
  "application/vnd.databricks.v1+notebook": {
   "dashboards": [],
   "language": "python",
   "notebookMetadata": {},
   "notebookName": "00_databricks_utils",
   "widgets": {}
  },
  "kernelspec": {
   "display_name": "python3",
   "language": "python",
   "name": "python3"
  }
 },
 "nbformat": 4,
 "nbformat_minor": 0
}
