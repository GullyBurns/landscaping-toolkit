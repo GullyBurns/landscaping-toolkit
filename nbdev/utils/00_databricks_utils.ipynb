{
 "cells": [
  {
   "cell_type": "markdown",
   "metadata": {
    "application/vnd.databricks.v1+cell": {
     "cellMetadata": {},
     "inputWidgets": {},
     "nuid": "77e41484-a037-4393-a751-a7dc02255bcc",
     "showTitle": false,
     "title": ""
    }
   },
   "source": [
    "# Databricks Utilities \n",
    "> Tools for use within databricks notebooks."
   ]
  },
  {
   "cell_type": "code",
   "execution_count": 0,
   "metadata": {
    "application/vnd.databricks.v1+cell": {
     "cellMetadata": {},
     "inputWidgets": {},
     "nuid": "80a3b602-54eb-49af-b149-fdd433eba0c0",
     "showTitle": false,
     "title": ""
    }
   },
   "outputs": [],
   "source": [
    "#| default_exp generalUtils"
   ]
  },
  {
   "cell_type": "code",
   "execution_count": 0,
   "metadata": {
    "application/vnd.databricks.v1+cell": {
     "cellMetadata": {},
     "inputWidgets": {},
     "nuid": "44be1987-a66a-4c51-9732-ade3c7d39bae",
     "showTitle": false,
     "title": ""
    }
   },
   "outputs": [],
   "source": [
    "#| hide\n",
    "from nbdev import *"
   ]
  },
  {
   "cell_type": "code",
   "execution_count": 0,
   "metadata": {
    "application/vnd.databricks.v1+cell": {
     "cellMetadata": {},
     "inputWidgets": {},
     "nuid": "da03ee22-5483-457b-9218-093fbb70a2e7",
     "showTitle": false,
     "title": ""
    }
   },
   "outputs": [],
   "source": [
    "#| export\n",
    "\n",
    "import pytz\n",
    "\n",
    "from datetime import datetime\n",
    "\n",
    "import re"
   ]
  },
  {
   "cell_type": "code",
   "execution_count": 0,
   "metadata": {
    "application/vnd.databricks.v1+cell": {
     "cellMetadata": {},
     "inputWidgets": {},
     "nuid": "1e654a03-0891-4f4f-8860-743600403511",
     "showTitle": false,
     "title": ""
    }
   },
   "outputs": [],
   "source": [
    "#| export\n",
    "\n",
    "def dump_data_to_disk(df, file_stem, databricks_url='https://ie-meta-prod-databricks-workspace.cloud.databricks.com', sep='\\t'):\n",
    "  ''' \n",
    "  Save a Pandas's Dataframe to disk and returns a URL where you can download it\n",
    "  \n",
    "  `file_stem`: the location to save the file in the databricks file system. String must start with '/dbfs/FileStore/'\n",
    "  `databricks_url`: is the URL for the Databricks environment being used. Defaults to the CZI workspace. \n",
    "  '''\n",
    "  if sep=='\\t':\n",
    "    suffix = '.tsv'\n",
    "  elif sep==',':\n",
    "    suffix = '.csv'\n",
    "  else:\n",
    "    raise Exception('separator must be either a TAB or COMMA')\n",
    "  tz = pytz.timezone('America/Los_Angeles')\n",
    "  now = datetime.now(tz=tz)\n",
    "  datestamp = now.strftime(\"%Y_%m_%d\")\n",
    "  data_path = file_stem+datestamp+suffix\n",
    "  df = df.replace(r'\\\\\\\\n', ' ', regex=True)\n",
    "  df.to_csv(data_path, sep=sep, index=False)\n",
    "  databricks_stem = databricks_url + '/files/'\n",
    "  url = re.sub('/dbfs/FileStore/', databricks_stem, data_path)\n",
    "  name = file_stem\n",
    "  name_match = re.search('/([a-zA-Z0-9_]+)_*$', file_stem)\n",
    "  if name_match:\n",
    "    name = name_match.group(1)\n",
    "\n",
    "  return url\n"
   ]
  }
 ],
 "metadata": {
  "anaconda-cloud": {},
  "application/vnd.databricks.v1+notebook": {
   "dashboards": [],
   "language": "python",
   "notebookMetadata": {},
   "notebookName": "00_databricks_utils",
   "widgets": {}
  },
  "kernelspec": {
   "display_name": "Python 3",
   "language": "python",
   "name": "python3"
  },
  "language_info": {
   "codemirror_mode": {
    "name": "ipython",
    "version": 3
   },
   "file_extension": ".py",
   "mimetype": "text/x-python",
   "name": "python",
   "nbconvert_exporter": "python",
   "pygments_lexer": "ipython3",
   "version": "3.6.1"
  }
 },
 "nbformat": 4,
 "nbformat_minor": 0
}
