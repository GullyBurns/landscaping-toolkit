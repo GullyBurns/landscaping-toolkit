{
 "cells": [
  {
   "cell_type": "code",
   "execution_count": 0,
   "metadata": {
    "application/vnd.databricks.v1+cell": {
     "cellMetadata": {},
     "inputWidgets": {},
     "nuid": "840d4027-0394-4bc3-a87b-01f6bfe92240",
     "showTitle": false,
     "title": ""
    }
   },
   "outputs": [],
   "source": [
    "# default_exp generalUtils\n",
    "from nbdev import *"
   ]
  },
  {
   "cell_type": "markdown",
   "metadata": {
    "application/vnd.databricks.v1+cell": {
     "cellMetadata": {},
     "inputWidgets": {},
     "nuid": "3883d273-9bcd-48bf-94a5-bee8742a34d1",
     "showTitle": false,
     "title": ""
    }
   },
   "source": [
    "# Databricks Utilities \n",
    "> Tools for use within databricks notebooks."
   ]
  },
  {
   "cell_type": "code",
   "execution_count": 0,
   "metadata": {
    "application/vnd.databricks.v1+cell": {
     "cellMetadata": {},
     "inputWidgets": {},
     "nuid": "6e9732d1-c9b7-4700-a8b0-f64c8988e57c",
     "showTitle": false,
     "title": ""
    }
   },
   "outputs": [],
   "source": [
    "#export\n",
    "\n",
    "import pytz\n",
    "from datetime import datetime\n",
    "import re"
   ]
  },
  {
   "cell_type": "code",
   "execution_count": 0,
   "metadata": {
    "application/vnd.databricks.v1+cell": {
     "cellMetadata": {},
     "inputWidgets": {},
     "nuid": "25818df8-88a7-46da-984e-c02941c62bef",
     "showTitle": false,
     "title": ""
    }
   },
   "outputs": [],
   "source": [
    "#export\n",
    "\n",
    "def dump_data_to_disk(df, file_stem, databricks_url='https://ie-meta-prod-databricks-workspace.cloud.databricks.com', sep='\\t'):\n",
    "  ''' \n",
    "  Save a Pandas's Dataframe to disk and returns a URL where you can download it\n",
    "  \n",
    "  `file_stem`: the location to save the file in the databricks file system. String must start with '/dbfs/FileStore/'\n",
    "  `databricks_url`: is the URL for the Databricks environment being used. Defaults to the CZI workspace. \n",
    "  '''\n",
    "  if sep=='\\t':\n",
    "    suffix = '.tsv'\n",
    "  elif sep==',':\n",
    "    suffix = '.csv'\n",
    "  else:\n",
    "    raise Exception('separator must be either a TAB or COMMA')\n",
    "  tz = pytz.timezone('America/Los_Angeles')\n",
    "  now = datetime.now(tz=tz)\n",
    "  datestamp = now.strftime(\"%Y_%m_%d\")\n",
    "  data_path = file_stem+datestamp+suffix\n",
    "  df = df.replace(r'\\\\\\\\n', ' ', regex=True)\n",
    "  df.to_csv(data_path, sep=sep, index=False)\n",
    "  databricks_stem = databricks_url + '/files/'\n",
    "  url = re.sub('/dbfs/FileStore/', databricks_stem, data_path)\n",
    "  name = file_stem\n",
    "  name_match = re.search('/([a-zA-Z0-9_]+)_*$', file_stem)\n",
    "  if name_match:\n",
    "    name = name_match.group(1)\n",
    "  return url\n"
   ]
  }
 ],
 "metadata": {
  "anaconda-cloud": {},
  "application/vnd.databricks.v1+notebook": {
   "dashboards": [],
   "language": "python",
   "notebookMetadata": {},
   "notebookName": "00_databricks_utils",
   "widgets": {}
  },
  "kernelspec": {
   "display_name": "Python 3",
   "language": "python",
   "name": "python3"
  },
  "language_info": {
   "codemirror_mode": {
    "name": "ipython",
    "version": 3
   },
   "file_extension": ".py",
   "mimetype": "text/x-python",
   "name": "python",
   "nbconvert_exporter": "python",
   "pygments_lexer": "ipython3",
   "version": "3.6.1"
  }
 },
 "nbformat": 4,
 "nbformat_minor": 0
}
