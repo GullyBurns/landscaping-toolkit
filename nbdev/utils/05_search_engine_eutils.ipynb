{
 "cells": [
  {
   "cell_type": "code",
   "execution_count": 0,
   "metadata": {
    "application/vnd.databricks.v1+cell": {
     "cellMetadata": {},
     "inputWidgets": {},
     "nuid": "02cd07ce-1406-4a4f-ae15-03f5a325ef90",
     "showTitle": false,
     "title": ""
    }
   },
   "outputs": [],
   "source": [
    "# default_exp searchEngineUtils\n",
    "from nbdev import *"
   ]
  },
  {
   "cell_type": "markdown",
   "metadata": {
    "application/vnd.databricks.v1+cell": {
     "cellMetadata": {},
     "inputWidgets": {},
     "nuid": "ad4c34f7-557d-4dd8-817e-b4fa750225f8",
     "showTitle": false,
     "title": ""
    }
   },
   "source": [
    "# Search Engine Tools  \n",
    "\n",
    "> A library of classes that provide query access to a number of online academic search services including (Pubmed, PMC, and European PMC)."
   ]
  },
  {
   "cell_type": "markdown",
   "metadata": {
    "application/vnd.databricks.v1+cell": {
     "cellMetadata": {},
     "inputWidgets": {},
     "nuid": "b511376c-1050-4a59-a9a3-d1411a96f78f",
     "showTitle": false,
     "title": ""
    }
   },
   "source": [
    "## NCBI Tools"
   ]
  },
  {
   "cell_type": "code",
   "execution_count": 0,
   "metadata": {
    "application/vnd.databricks.v1+cell": {
     "cellMetadata": {},
     "inputWidgets": {},
     "nuid": "5c9bfc2a-44f2-49d2-a8d0-7a3438ce239b",
     "showTitle": false,
     "title": ""
    }
   },
   "outputs": [],
   "source": [
    "#export\n",
    "\"\"\"\n",
    "A package designed for interactions with the EUtils tools from the National Library of Medicine\n",
    "\"\"\"\n",
    "import requests\n",
    "import json\n",
    "import datetime\n",
    "from enum import Enum\n",
    "from urllib.request import urlopen\n",
    "from urllib.parse import quote_plus, quote, unquote\n",
    "from urllib.error import URLError\n",
    "from time import time,sleep\n",
    "import re\n",
    "from tqdm import tqdm\n",
    "from bs4 import BeautifulSoup,Tag,Comment,NavigableString\n",
    "import pandas as pd\n",
    "\n",
    "PAGE_SIZE = 10000\n",
    "TIME_THRESHOLD = 0.3333334\n",
    "\n",
    "class NCBI_Database_Type(Enum):\n",
    "  \"\"\"\n",
    "  Simple enumeration of the different NCBI databases supported by this tool\n",
    "  \"\"\"\n",
    "  pubmed = 'pubmed'\n",
    "  PMC = 'PMC'\n",
    "\n",
    "class ESearchQuery:\n",
    "  \"\"\"\n",
    "  Class to provide query interface for ESearch (i.e., query terms in elaborate ways, return a list of ids)\n",
    "  Each instance of this class executes queries of a given type\n",
    "  \"\"\"\n",
    "\n",
    "  def __init__(self, api_key=None, oa=False, db='pubmed'):\n",
    "    \"\"\"\n",
    "    :param api_key: API Key for NCBI EUtil Services \n",
    "    :param oa: Is this query searching for open access papers? \n",
    "    :param db: The database being queried\n",
    "    \"\"\"\n",
    "    self.api_key = api_key\n",
    "    self.idPrefix = ''\n",
    "    self.oa = oa\n",
    "    self.db = db\n",
    "  \n",
    "  def build_query_tuples(self, df, check_threshold, name_col, terms_col, sep):\n",
    "    '''\n",
    "    Given a dataframe defining a set of 'OR' queries (i.e., entirely broken into | clauses), \n",
    "    check each indvidual term in Pubmed and return complete queries with problematic terms \n",
    "    stripped.\n",
    "    '''\n",
    "    query_tuples = []\n",
    "    phrase_counts = []\n",
    "    for ind in df.index:\n",
    "      search_l = []\n",
    "      terms_to_check = [df[name_col][ind]]\n",
    "      terms_to_check.extend(df[terms_col][ind].split('|'))\n",
    "      for s in terms_to_check: \n",
    "        go_no_go, phrase, count = _check_query_phrase(self, s.strip())\n",
    "        print(go_no_go, phrase, count)\n",
    "        if go_no_go:\n",
    "          search_l.append(phrase)\n",
    "          sleep(0.10)\n",
    "          if count>check_threshold:\n",
    "            phrase_counts.append((phrase, count))\n",
    "      query_tuples.append( (ind, df[name_col][ind], ' OR '.join(search_l)) )\n",
    "    return query_tuples, phrase_counts\n",
    "  \n",
    "  def _check_query_phrase(self, phrase):\n",
    "    \"\"\"\n",
    "    Checks whether a phrase would work on Pubmed or would be expanded (which can lead to unpredictable errors). \n",
    "    Use this as a check for synonyms.   \n",
    "    \"\"\"\n",
    "    idPrefix = ''\n",
    "    m1 = re.match('^[a-zA-Z0-9]{1,5}$', phrase)\n",
    "    if m1 is not None:\n",
    "      return False, 'Abbreviation', 0\n",
    "\n",
    "    m2 = re.search('[(\\)]', phrase)\n",
    "    if m2 is not None:\n",
    "      return False, 'Brackets', 0\n",
    "\n",
    "    m3 = re.search('[\\,\\;]', phrase)\n",
    "    if m3 is not None:\n",
    "      phrase = '(\"' + '\" AND \"'.join(re.split('[\\,\\;]', phrase.strip()))+'\")'\n",
    "\n",
    "    if self.api_key is not None: \n",
    "      esearch_stem = 'https://eutils.ncbi.nlm.nih.gov/entrez/eutils/esearch.fcgi?api_key='+self.api_key+'&db=' + self.db + '&term='\n",
    "    else:\n",
    "      esearch_stem = 'https://eutils.ncbi.nlm.nih.gov/entrez/eutils/esearch.fcgi?db='+self.db + '&term='\n",
    "    url =  esearch_stem + quote('\"'+phrase+'\"')\n",
    "\n",
    "    esearch_response = urlopen(url)\n",
    "    esearch_data = esearch_response.read().decode('utf-8')\n",
    "    esearch_soup = BeautifulSoup(esearch_data, \"lxml-xml\")\n",
    "    count = int(esearch_soup.find('Count').string)\n",
    "    #n_translations = len(esearch_soup.find('TranslationStack').findAll('TermSet'))\n",
    "    phrase_not_found = esearch_soup.find('PhraseNotFound')\n",
    "    quoted_phrase_not_found = esearch_soup.find('QuotedPhraseNotFound')\n",
    "    if phrase_not_found is not None or quoted_phrase_not_found is not None:\n",
    "      return False, '\"'+phrase+'\" not found', 0\n",
    "    if count == 0:\n",
    "      return False, phrase, count\n",
    "    return True, phrase, count        \n",
    "\n",
    "  def execute_count_query(self, query):\n",
    "    \"\"\"\n",
    "    Executes a query on the target database and returns a count of papers \n",
    "    \"\"\"\n",
    "    idPrefix = ''\n",
    "    if self.oa:\n",
    "      if self.db == NCBI_Database_Type.PMC:\n",
    "        query = '\"open access\"[filter] AND (' + query + ')'\n",
    "        idPrefix = 'PMC'\n",
    "      elif self.db == NCBI_Database_Type.pubmed:\n",
    "        query = '\"loattrfree full text\"[sb] AND (' + query + ')'\n",
    "    if self.api_key: \n",
    "      esearch_stem = 'https://eutils.ncbi.nlm.nih.gov/entrez/eutils/esearch.fcgi?api_key='+self.api_key+'&db=' + self.db + '&term='\n",
    "    else:\n",
    "      esearch_stem = 'https://eutils.ncbi.nlm.nih.gov/entrez/eutils/esearch.fcgi?db='+self.db + '&term='\n",
    "    query = quote_plus(query)\n",
    "    esearch_response = urlopen(esearch_stem + query)\n",
    "    esearch_data = esearch_response.read().decode('utf-8')\n",
    "    esearch_soup = BeautifulSoup(esearch_data, \"lxml-xml\")\n",
    "    count_tag = esearch_soup.find('Count')\n",
    "    if count_tag is None:\n",
    "      raise Exception('No Data returned from \"' + self.query + '\"')\n",
    "    return int(count_tag.string)\n",
    "\n",
    "  def execute_query_on_website(self, q, pm_order='relevance'):\n",
    "    \"\"\"\n",
    "    Executes a query on the Pubmed database and returns papers in order of relevance or date.\n",
    "    This is important to determine accuracy of complex queries are based on the composition of the first page of results.  \n",
    "    \"\"\"\n",
    "    query = 'https://pubmed.ncbi.nlm.nih.gov/?format=pmid&size=10&term='+re.sub('\\s+','+',q)\n",
    "    if pm_order == 'date':\n",
    "      query += '&sort=date'\n",
    "    response = urlopen(query)\n",
    "    data = response.read().decode('utf-8')\n",
    "    soup = BeautifulSoup(data, \"lxml-xml\")\n",
    "    pmids = re.split('\\s+', soup.find('body').text.strip())\n",
    "    return pmids\n",
    "\n",
    "  def execute_query(self, query):\n",
    "    \"\"\"\n",
    "    Executes a query on the eutils service and returns data as a Pandas Dataframe\n",
    "    \"\"\"\n",
    "    idPrefix = ''\n",
    "    if self.oa:\n",
    "      if self.db == NCBI_Database_Type.PMC:\n",
    "        query = '\"open access\"[filter] AND (' + query + ')'\n",
    "        idPrefix = 'PMC'\n",
    "      elif self.db == NCBI_Database_Type.pubmed:\n",
    "        query = '\"loattrfree full text\"[sb] AND (' + query + ')'\n",
    "\n",
    "    if self.api_key: \n",
    "      esearch_stem = 'https://eutils.ncbi.nlm.nih.gov/entrez/eutils/esearch.fcgi?api_key='+self.api_key+'&db=' + self.db + '&term='\n",
    "    else: \n",
    "      esearch_stem = 'https://eutils.ncbi.nlm.nih.gov/entrez/eutils/esearch.fcgi?db=' + self.db + '&term='\n",
    "\n",
    "    query = quote_plus(query)\n",
    "    print(esearch_stem + query)\n",
    "    esearch_response = urlopen(esearch_stem + query)\n",
    "    esearch_data = esearch_response.read().decode('utf-8')\n",
    "    esearch_soup = BeautifulSoup(esearch_data, \"lxml-xml\")\n",
    "    count_tag = esearch_soup.find('Count')\n",
    "    if count_tag is None:\n",
    "        raise Exception('No Data returned from \"' + query + '\"')\n",
    "    count = int(count_tag.string)\n",
    "\n",
    "    latest_time = time()\n",
    "\n",
    "    ids = []\n",
    "    for i in tqdm(range(0,count,PAGE_SIZE)):\n",
    "      full_query = esearch_stem + query + '&retstart=' + str(i)+ '&retmax=' + str(PAGE_SIZE)\n",
    "      esearch_response = urlopen(full_query)\n",
    "      esearch_data = esearch_response.read().decode('utf-8')\n",
    "      esearch_soup = BeautifulSoup(esearch_data, \"lxml-xml\")\n",
    "      for pmid_tag in esearch_soup.find_all('Id') :\n",
    "        ids.append(self.idPrefix + pmid_tag.text)\n",
    "      delta_time = time() - latest_time\n",
    "      if delta_time < TIME_THRESHOLD :\n",
    "        sleep(TIME_THRESHOLD - delta_time)\n",
    "        \n",
    "    return ids"
   ]
  },
  {
   "cell_type": "code",
   "execution_count": 0,
   "metadata": {
    "application/vnd.databricks.v1+cell": {
     "cellMetadata": {},
     "inputWidgets": {},
     "nuid": "44ccd6a3-7b1e-4f33-a16c-715ed78a419b",
     "showTitle": false,
     "title": ""
    }
   },
   "outputs": [],
   "source": [
    "show_doc(ESearchQuery.__init__)"
   ]
  },
  {
   "cell_type": "code",
   "execution_count": 0,
   "metadata": {
    "application/vnd.databricks.v1+cell": {
     "cellMetadata": {},
     "inputWidgets": {},
     "nuid": "fb3aeec3-9280-465e-b23c-7a84eb9a43cc",
     "showTitle": false,
     "title": ""
    }
   },
   "outputs": [],
   "source": [
    "show_doc(ESearchQuery.execute_count_query)"
   ]
  },
  {
   "cell_type": "code",
   "execution_count": 0,
   "metadata": {
    "application/vnd.databricks.v1+cell": {
     "cellMetadata": {},
     "inputWidgets": {},
     "nuid": "f88109fd-6ad1-4507-b0ee-262e69a622f3",
     "showTitle": false,
     "title": ""
    }
   },
   "outputs": [],
   "source": [
    "show_doc(ESearchQuery.execute_query_on_website)"
   ]
  },
  {
   "cell_type": "code",
   "execution_count": 0,
   "metadata": {
    "application/vnd.databricks.v1+cell": {
     "cellMetadata": {},
     "inputWidgets": {},
     "nuid": "ff8dd35e-b5fb-4826-aef8-d13080bd80a9",
     "showTitle": false,
     "title": ""
    }
   },
   "outputs": [],
   "source": [
    "show_doc(ESearchQuery.execute_query)"
   ]
  },
  {
   "cell_type": "code",
   "execution_count": 0,
   "metadata": {
    "application/vnd.databricks.v1+cell": {
     "cellMetadata": {},
     "inputWidgets": {},
     "nuid": "93fdde1f-77b4-4297-ae1e-eda9b693fedf",
     "showTitle": false,
     "title": ""
    }
   },
   "outputs": [],
   "source": [
    "show_doc(ESearchQuery._check_query_phrase)"
   ]
  },
  {
   "cell_type": "code",
   "execution_count": 0,
   "metadata": {
    "application/vnd.databricks.v1+cell": {
     "cellMetadata": {},
     "inputWidgets": {},
     "nuid": "a0d60f26-ae5d-4b34-b572-c3f9bbc157e8",
     "showTitle": false,
     "title": ""
    }
   },
   "outputs": [],
   "source": [
    "#export\n",
    "class EFetchQuery:\n",
    "    \"\"\"\n",
    "    Class to provide query interface for EFetch (i.e., query based on a list of ids)\n",
    "    Each instance of this class executes queries of a given type\n",
    "    \"\"\"\n",
    "\n",
    "    def __init__(self, api_key=None, db='pubmed'):\n",
    "        \"\"\"\n",
    "        :param api_key: API Key for NCBI EUtil Services \n",
    "        :param oa: Is this query searching for open access papers? \n",
    "        :param db: The database being queried\n",
    "        \"\"\"\n",
    "        self.api_key = api_key\n",
    "        self.db = db\n",
    "\n",
    "    def execute_efetch(self, id):\n",
    "        \"\"\"\n",
    "        Executes a query for a single specific identifier\n",
    "        \"\"\"\n",
    "        if self.api_key:\n",
    "          efetch_stem = 'https://eutils.ncbi.nlm.nih.gov/entrez/eutils/efetch.fcgi?api_key='+self.api_key+'&db=pubmed&retmode=xml&id='\n",
    "        else:\n",
    "          efetch_stem = 'https://eutils.ncbi.nlm.nih.gov/entrez/eutils/efetch.fcgi?db=pubmed&retmode=xml&id='\n",
    "        efetch_response = urlopen(efetch_stem + str(id))\n",
    "        return self._generate_rows_from_medline_records(efetch_response.read().decode('utf-8'))\n",
    "\n",
    "    def generate_data_frame_from_id_list(self, id_list):\n",
    "        \"\"\"\n",
    "        Executes a query for a list of ID values\n",
    "        \"\"\"\n",
    "        if self.api_key:\n",
    "          efetch_stem = 'https://eutils.ncbi.nlm.nih.gov/entrez/eutils/efetch.fcgi?api_key='+self.api_key+'&db=pubmed&retmode=xml&id='\n",
    "        else:\n",
    "          efetch_stem = 'https://eutils.ncbi.nlm.nih.gov/entrez/eutils/efetch.fcgi?db=pubmed&retmode=xml&id='\n",
    "        page_size = 100\n",
    "        i = 0\n",
    "        url = efetch_stem\n",
    "        efetch_df = pd.DataFrame()\n",
    "        for line in tqdm(id_list):\n",
    "            try:\n",
    "                l = re.split('\\s+', str(line))\n",
    "                pmid = l[0]\n",
    "                i += 1\n",
    "                if i >= page_size:\n",
    "                    efetch_response = urlopen(url)\n",
    "                    df = self._generate_rows_from_medline_records(efetch_response.read().decode('utf-8'))\n",
    "                    efetch_df = efetch_df.append(df)\n",
    "                    url = efetch_stem\n",
    "                    i = 0\n",
    "\n",
    "                if re.search('\\d$', url):\n",
    "                    url += ','\n",
    "                url += pmid.strip()\n",
    "            except URLError as e:\n",
    "                sleep(10)\n",
    "                print(\"URLError({0}): {1}\".format(e.errno, e.strerror))\n",
    "            except TypeError as e2:\n",
    "                pause = 1\n",
    "\n",
    "        if url != efetch_stem:\n",
    "            efetch_response = urlopen(url)\n",
    "            df = self._generate_rows_from_medline_records(efetch_response.read().decode('utf-8'))\n",
    "            efetch_df = efetch_df.append(df)\n",
    "        return efetch_df\n",
    "\n",
    "    def generate_mesh_data_frame_from_id_list(self, id_list):\n",
    "        \"\"\"\n",
    "        Executes a query for MeSH data from a list of ID values\n",
    "        \"\"\"\n",
    "        url = 'https://eutils.ncbi.nlm.nih.gov/entrez/eutils/efetch.fcgi'\n",
    "        if self.api_key:\n",
    "          payload = 'api_key='+self.api_key+'&db=pubmed&retmode=xml&id='\n",
    "        else:\n",
    "          payload = 'db=pubmed&retmode=xml&id='\n",
    "          \n",
    "        headers = {'content-type': 'application/xml'}\n",
    "\n",
    "        page_size = 10000\n",
    "        i = 0\n",
    "        efetch_df = pd.DataFrame()\n",
    "        for line in tqdm(id_list):\n",
    "            try:\n",
    "                l = re.split('\\s+', line)\n",
    "                pmid = l[0]\n",
    "                i += 1\n",
    "                if i >= page_size:\n",
    "                    print('   running query')\n",
    "                    r = requests.post(url, data=payload)\n",
    "                    efetch_data = r.content.decode('utf-8')\n",
    "                    df = self._generate_mesh_rows_from_medline_records(efetch_data)\n",
    "                    efetch_df = efetch_df.append(df)\n",
    "                    payload = 'db=pubmed&retmode=xml&id='\n",
    "                    i = 0\n",
    "\n",
    "                if re.search('\\d$', payload):\n",
    "                    payload += ','\n",
    "                payload += pmid.strip()\n",
    "            except URLError as e:\n",
    "                sleep(10)\n",
    "                print(\"URLError({0}): {1}\".format(e.errno, e.strerror))\n",
    "\n",
    "        if payload[-1] != '=':\n",
    "            r = requests.post(url, data=payload)\n",
    "            efetch_data = r.content.decode('utf-8')\n",
    "            df = self._generate_mesh_rows_from_medline_records(efetch_data)\n",
    "            efetch_df = efetch_df.append(df)\n",
    "\n",
    "        return efetch_df\n",
    "\n",
    "    def _generate_mesh_rows_from_medline_records(self, record):\n",
    "\n",
    "        soup2 = BeautifulSoup(record, \"lxml-xml\")\n",
    "\n",
    "        rows = []\n",
    "        cols = ['PMID','MESH']\n",
    "        for citation_tag in tqdm(soup2.find_all('MedlineCitation')):\n",
    "\n",
    "            pmid_tag = citation_tag.find('PMID')\n",
    "\n",
    "            mesh_labels = []\n",
    "\n",
    "            if pmid_tag is None:\n",
    "                continue\n",
    "\n",
    "            for meshTag in citation_tag.findAll('MeshHeading'):\n",
    "                desc = meshTag.find('DescriptorName')\n",
    "                qual_list = meshTag.findAll('QualifierName')\n",
    "                if len(qual_list)>0:\n",
    "                    mesh_labels.append('%s/%s'%(desc.text.replace('\\n', ' '),'/'.join(q.text.replace('\\n', ' ') for q in qual_list)))\n",
    "                else:\n",
    "                    mesh_labels.append(desc.text.replace('\\n', ' '))\n",
    "            mesh_data = \",\".join(mesh_labels)\n",
    "\n",
    "            rows.append((pmid_tag.text, mesh_data))\n",
    "\n",
    "        df = pd.DataFrame(data=rows, columns=cols)\n",
    "        return df\n",
    "\n",
    "    def _generate_rows_from_medline_records(self, record):\n",
    "\n",
    "        soup2 = BeautifulSoup(record, \"lxml-xml\")\n",
    "\n",
    "        rows = []\n",
    "        cols = ['PMID', 'YEAR', 'PUBLICATION_TYPE', 'TITLE', 'ABSTRACT','MESH','KEYWORDS']\n",
    "        for citation_tag in soup2.find_all('MedlineCitation'):\n",
    "\n",
    "            pmid_tag = citation_tag.find('PMID')\n",
    "            title_tag = citation_tag.find('ArticleTitle')\n",
    "            abstract_txt = ''\n",
    "            for x in citation_tag.findAll('AbstractText'):\n",
    "                if x.label is not None:\n",
    "                    abstract_txt += ' ' + x.label + ': '\n",
    "                abstract_txt += x.text\n",
    "\n",
    "            mesh_labels = []\n",
    "            for meshTag in citation_tag.findAll('MeshHeading'):\n",
    "                desc = meshTag.find('DescriptorName')\n",
    "                qual_list = meshTag.findAll('QualifierName')\n",
    "                if len(qual_list)>0:\n",
    "                    mesh_labels.append('%s/%s'%(desc.text.replace('\\n', ' '),'/'.join(q.text.replace('\\n', ' ') for q in qual_list)))\n",
    "                else:\n",
    "                    mesh_labels.append(desc.text.replace('\\n', ' '))\n",
    "            mesh_data = \",\".join(mesh_labels)\n",
    "\n",
    "            if pmid_tag is None or title_tag is None or abstract_txt == '':\n",
    "                continue\n",
    "\n",
    "            year_tag = citation_tag.find('PubDate').find('Year')\n",
    "\n",
    "            year = ''\n",
    "            if year_tag is not None:\n",
    "                year = year_tag.text\n",
    "\n",
    "            is_review = '|'.join([x.text for x in citation_tag.findAll('PublicationType')])\n",
    "\n",
    "            keyword_data = '|'.join([meshTag.text.replace('\\n', ' ') for meshTag in citation_tag.findAll('Keyword')])\n",
    "\n",
    "            rows.append((pmid_tag.text, year, is_review, title_tag.text, abstract_txt, mesh_data, keyword_data))\n",
    "\n",
    "        df = pd.DataFrame(data=rows, columns=cols)\n",
    "        return df\n"
   ]
  },
  {
   "cell_type": "code",
   "execution_count": 0,
   "metadata": {
    "application/vnd.databricks.v1+cell": {
     "cellMetadata": {},
     "inputWidgets": {},
     "nuid": "c0a177d8-9704-4f85-aedc-684a708c2279",
     "showTitle": false,
     "title": ""
    }
   },
   "outputs": [],
   "source": [
    "show_doc(EFetchQuery.__init__)"
   ]
  },
  {
   "cell_type": "code",
   "execution_count": 0,
   "metadata": {
    "application/vnd.databricks.v1+cell": {
     "cellMetadata": {},
     "inputWidgets": {},
     "nuid": "b78eafae-260c-4c90-b3a6-a517116e6945",
     "showTitle": false,
     "title": ""
    }
   },
   "outputs": [],
   "source": [
    "show_doc(EFetchQuery.execute_efetch)"
   ]
  },
  {
   "cell_type": "code",
   "execution_count": 0,
   "metadata": {
    "application/vnd.databricks.v1+cell": {
     "cellMetadata": {},
     "inputWidgets": {},
     "nuid": "be671440-31d5-451b-adbb-17ce60c3e9dd",
     "showTitle": false,
     "title": ""
    }
   },
   "outputs": [],
   "source": [
    "show_doc(EFetchQuery.generate_data_frame_from_id_list)"
   ]
  },
  {
   "cell_type": "code",
   "execution_count": 0,
   "metadata": {
    "application/vnd.databricks.v1+cell": {
     "cellMetadata": {},
     "inputWidgets": {},
     "nuid": "9cac9dae-9f45-4743-b239-c63bd721e7bf",
     "showTitle": false,
     "title": ""
    }
   },
   "outputs": [],
   "source": [
    "show_doc(EFetchQuery.generate_mesh_data_frame_from_id_list)"
   ]
  },
  {
   "cell_type": "markdown",
   "metadata": {
    "application/vnd.databricks.v1+cell": {
     "cellMetadata": {},
     "inputWidgets": {},
     "nuid": "5293f0d8-a3ac-4411-9775-bf5ea32f49df",
     "showTitle": false,
     "title": ""
    }
   },
   "source": [
    "## EuroPMCQuery"
   ]
  },
  {
   "cell_type": "code",
   "execution_count": 0,
   "metadata": {
    "application/vnd.databricks.v1+cell": {
     "cellMetadata": {},
     "inputWidgets": {},
     "nuid": "636af950-dc71-47d8-9106-f92ccf5f957a",
     "showTitle": false,
     "title": ""
    }
   },
   "outputs": [],
   "source": [
    "#export\n",
    "class EuroPMCQuery():\n",
    "    \"\"\"\n",
    "    A class that executes search queries on the European PMC API \n",
    "    \"\"\"\n",
    "    def __init__(self, oa=False, db='pubmed'):\n",
    "        \"\"\"\n",
    "        Initialization of the class\n",
    "        :param oa:\n",
    "        \"\"\"\n",
    "        self.oa = oa\n",
    "\n",
    "    def run_empc_query(self, q, page_size=1000, timeout=60, preprint=False):\n",
    "        EMPC_API_URL = 'https://www.ebi.ac.uk/europepmc/webservices/rest/search?format=JSON&pageSize=' + str(page_size) + '&synonym=TRUE'\n",
    "        url = EMPC_API_URL + '&query=' + q\n",
    "        r = requests.get(url, timeout=timeout)\n",
    "        data = json.loads(r.text)\n",
    "        numFound = data['hitCount']\n",
    "        print(url + ', ' + str(numFound) + ' European PMC PAPERS FOUND')\n",
    "        ids_from_q = set()\n",
    "        cursorMark = '*'\n",
    "        for i in tqdm(range(0, numFound, page_size)):\n",
    "            url = EMPC_API_URL + '&cursorMark=' + cursorMark + '&query=' + q\n",
    "            r = requests.get(url, timeout=timeout)\n",
    "            data = json.loads(r.text)\n",
    "            #print(data)\n",
    "            if data.get('nextCursorMark'):\n",
    "                cursorMark = data['nextCursorMark']\n",
    "            for d in data['resultList']['result']:\n",
    "                if d.get('pubType','') == 'patent':\n",
    "                    continue\n",
    "                if preprint and d.get('pubType','') != 'preprint':\n",
    "                    continue: \n",
    "                ids_from_q.add((d.get('id',-1),d.get('doi','')))\n",
    "        ids_from_q = sorted(list(ids_from_q), key = lambda x: x[0])\n",
    "        return (numFound, ids_from_q)"
   ]
  },
  {
   "cell_type": "code",
   "execution_count": 0,
   "metadata": {
    "application/vnd.databricks.v1+cell": {
     "cellMetadata": {},
     "inputWidgets": {},
     "nuid": "7eab82ee-69d3-4c98-a030-a47dba6a0276",
     "showTitle": false,
     "title": ""
    }
   },
   "outputs": [],
   "source": [
    "show_doc(EuroPMCQuery.__init__)"
   ]
  },
  {
   "cell_type": "code",
   "execution_count": 0,
   "metadata": {
    "application/vnd.databricks.v1+cell": {
     "cellMetadata": {},
     "inputWidgets": {},
     "nuid": "5ae9de63-0d97-4591-8678-3847775a5ed8",
     "showTitle": false,
     "title": ""
    }
   },
   "outputs": [],
   "source": [
    "show_doc(EuroPMCQuery.run_empc_query)"
   ]
  },
  {
   "cell_type": "markdown",
   "metadata": {
    "application/vnd.databricks.v1+cell": {
     "cellMetadata": {},
     "inputWidgets": {},
     "nuid": "a1891479-88ae-4be9-91c6-a56b37aac255",
     "showTitle": false,
     "title": ""
    }
   },
   "source": [
    "## Tests"
   ]
  },
  {
   "cell_type": "code",
   "execution_count": 0,
   "metadata": {
    "application/vnd.databricks.v1+cell": {
     "cellMetadata": {},
     "inputWidgets": {},
     "nuid": "68870050-1cd7-419d-a4b7-7fe1c724a455",
     "showTitle": false,
     "title": ""
    }
   },
   "outputs": [],
   "source": [
    "#query = [{'ID':0, 'query': '(\"Neurodegeneration\" | \"Neurodegenerative disease\" | \"Alzheimers Disease\" | \"Parkinsons Disease\") & \"Machine Learning\"'}]\n",
    "#df_test = pd.DataFrame(query)\n",
    "#qt_test = QueryTranslator(df_test, 'ID', 'query')\n",
    "#print(qt_test.generate_queries(QueryType.pubmed))"
   ]
  },
  {
   "cell_type": "code",
   "execution_count": 0,
   "metadata": {
    "application/vnd.databricks.v1+cell": {
     "cellMetadata": {},
     "inputWidgets": {},
     "nuid": "aeae30fc-135d-4f7a-a759-30b37be8690a",
     "showTitle": false,
     "title": ""
    }
   },
   "outputs": [],
   "source": [
    "# tests\n",
    "# uncomment if needed.\n",
    "import urllib.parse \n",
    "from time import time, sleep\n",
    "\n",
    "#esq = ESearchQuery()\n",
    "#print(esq.execute_count_query(\"Primary Ciliary Dyskinesia\"))\n",
    "#sleep(3) # Sleep for 3 seconds\n",
    "#esq.execute_query(\"Primary Ciliary Dyskinesia\")\n",
    "\n",
    "#efq = EFetchQuery()\n",
    "#sleep(3) # Sleep for 3 seconds\n",
    "#efq.execute_efetch(35777446)"
   ]
  },
  {
   "cell_type": "code",
   "execution_count": 0,
   "metadata": {
    "application/vnd.databricks.v1+cell": {
     "cellMetadata": {},
     "inputWidgets": {},
     "nuid": "9c9100b2-c59d-42be-af52-f521123af137",
     "showTitle": false,
     "title": ""
    }
   },
   "outputs": [],
   "source": [
    "# Tests for European PMC\n",
    "#epmcq = EuroPMCQuery()\n",
    "#id_list, q_list = qt_test.generate_queries(QueryType.epmc)\n",
    "#print(q_list)\n",
    "#epmcq.run_empc_query(q_list[0])\n"
   ]
  }
 ],
 "metadata": {
  "application/vnd.databricks.v1+notebook": {
   "dashboards": [],
   "language": "python",
   "notebookMetadata": {},
   "notebookName": "05_search_engine_eutils",
   "notebookOrigID": 1250693293797119,
   "widgets": {}
  },
  "kernelspec": {
   "display_name": "Python 3",
   "language": "python",
   "name": "python3"
  }
 },
 "nbformat": 4,
 "nbformat_minor": 0
}
